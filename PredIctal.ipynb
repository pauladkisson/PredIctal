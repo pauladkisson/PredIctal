{
 "cells": [
  {
   "cell_type": "markdown",
   "id": "fa5460fc",
   "metadata": {},
   "source": [
    "# PredIctal: An Automated Seizure Prediction Algorithm"
   ]
  },
  {
   "cell_type": "code",
   "execution_count": 1,
   "id": "3bb9452a",
   "metadata": {},
   "outputs": [],
   "source": [
    "import numpy as np\n",
    "from scipy.io import loadmat as loadmat\n",
    "import os\n",
    "import matplotlib.pyplot as plt\n",
    "%matplotlib inline\n",
    "from scipy.signal import (periodogram as periodogram,\n",
    "                         butter as butter,\n",
    "                         lfilter as lfilter)\n",
    "from timeit import default_timer as timer\n",
    "from sklearn.decomposition import PCA as PCA\n",
    "from sklearn.svm import SVC as SVC\n",
    "from sklearn.model_selection import train_test_split as train_test_split\n",
    "from sklearn.metrics import precision_recall_fscore_support as prf\n",
    "from copy import copy as copy\n",
    "from tqdm.notebook import tqdm\n",
    "import mne\n",
    "from scipy.signal import decimate"
   ]
  },
  {
   "cell_type": "markdown",
   "id": "c9aa6294",
   "metadata": {},
   "source": [
    "## PreProcessing"
   ]
  },
  {
   "cell_type": "code",
   "execution_count": 2,
   "id": "6b463729",
   "metadata": {},
   "outputs": [],
   "source": [
    "class Segment():\n",
    "    \"\"\"\n",
    "    Class for pre-processing individual 10-minute EEG segments and extracting time-frequency representations\n",
    "    \"\"\"\n",
    "    def __init__(self, path, varname, band_centers, filt_ord=1, low_cut=0.5, high_cut=50, n_down=20, t_split=4):\n",
    "        self.load_struct(path, varname)\n",
    "        self.filter_seg(filt_ord, low_cut, high_cut, self.fs)\n",
    "        self.get_tfr(self.filt_data, band_centers)\n",
    "        self.get_feats(n_down)\n",
    "        self.split_seg(t_split)\n",
    "        \n",
    "    def load_struct(self, path, var):\n",
    "        \"\"\"\n",
    "        Load data from 10-min segment specified by the path and variable name\n",
    "        \"\"\"\n",
    "        basepath = os.path.dirname(os.path.realpath(\"__file__\"))\n",
    "        seg_path = os.path.join(basepath, path)\n",
    "        seg_struct = loadmat(seg_path)[var][0][0]\n",
    "        self.raw_data = np.transpose(seg_struct[0])\n",
    "        self.data_length_sec = seg_struct[1][0][0]\n",
    "        self.fs = seg_struct[2][0][0]\n",
    "        self.channels = []\n",
    "        for channel in seg_struct[3][0]:\n",
    "            self.channels.append(channel[0])\n",
    "        self.num_channels = len(self.channels)\n",
    "        self.sequence = seg_struct[4][0][0]\n",
    "        self.t = np.linspace(0, self.data_length_sec, self.raw_data.shape[0])\n",
    "    \n",
    "    def filter_seg(self, filt_ord, cutoff_low, cutoff_high, fs):\n",
    "        \"\"\"\n",
    "        Filter raw voltage data using butterworth bandpass filter\n",
    "        \"\"\"\n",
    "        b, a = butter(filt_ord, [cutoff_low, cutoff_high], btype=\"bandpass\", fs=fs)\n",
    "        self.filt_data = lfilter(b, a, self.raw_data)\n",
    "    \n",
    "    def get_tfr(self, data, band_centers):\n",
    "        \"\"\"\n",
    "        Obtain time-frequency representation (tfr) using Morlet Wavelet Convolution\n",
    "        \"\"\"\n",
    "        self.band_centers = band_centers\n",
    "        data = np.swapaxes(np.expand_dims(data, axis=0), 1, 2)\n",
    "        tfr = mne.time_frequency.tfr_array_morlet(data, freqs=band_centers, sfreq=int(self.fs), n_cycles=2,\n",
    "                                                  output='complex')\n",
    "        self.tfr = tfr[0]\n",
    "        self.phase = np.angle(self.tfr)\n",
    "        self.amp = np.abs(self.tfr)\n",
    "        \n",
    "    def minmax_norm(self, x):\n",
    "        \"\"\"\n",
    "        Apply min-max normalization.  Returns both normalized x and normalization factor minmax\n",
    "        \"\"\"\n",
    "        max_x = np.max(np.abs(x))\n",
    "        minmax = np.array([max_x])\n",
    "        norm_x = x / max_x\n",
    "        return norm_x, minmax\n",
    "\n",
    "    def get_feats(self, n_down):\n",
    "        \"\"\"\n",
    "        Normalize time-frequency representation, decimate, and concatenate together for one feature vector.\n",
    "        \"\"\"\n",
    "        norm_phase, max_phase = self.minmax_norm(self.phase)\n",
    "        norm_amp, max_amp = self.minmax_norm(self.amp)\n",
    "        adjusted_ndown = n_down\n",
    "        while adjusted_ndown > 10: #scipy recommends only decimating by 10 at most\n",
    "            norm_phase = decimate(norm_phase, 2)\n",
    "            norm_amp = decimate(norm_amp, 2)\n",
    "            adjusted_ndown = adjusted_ndown // 2\n",
    "        norm_phase = decimate(norm_phase, adjusted_ndown)\n",
    "        norm_amp = decimate(norm_amp, adjusted_ndown)\n",
    "        self.feats = np.concatenate((norm_phase, norm_amp), axis=0)\n",
    "        self.down_fs = self.fs // n_down\n",
    "    \n",
    "    def split_seg(self, t_split):\n",
    "        \"\"\"\n",
    "        Split segment feature data into subsegments.\n",
    "        \"\"\"\n",
    "        num_seg = self.data_length_sec // t_split\n",
    "        seg_len = t_split*self.down_fs\n",
    "        self.seg_t = np.linspace(0, t_split, seg_len)\n",
    "        self.subsegments = []\n",
    "        for i in range(num_seg):\n",
    "            subseg = self.feats[:, :, i*seg_len:(i+1)*seg_len]\n",
    "            self.subsegments.append(subseg)\n",
    "        \n",
    "    def plot_raw(self, start_idx=0, end_idx=None):\n",
    "        \"\"\"\n",
    "        Visualize Raw EEG Waveform\n",
    "        \"\"\"\n",
    "        if not(end_idx):\n",
    "            end_idx = self.raw_data.shape[0]\n",
    "        fig, ax = plt.subplots()\n",
    "        ax.plot(self.t[start_idx:end_idx], self.raw_data[start_idx:end_idx])\n",
    "        ax.set_xlabel(\"Time (s)\")\n",
    "        ax.set_ylabel(\"Voltage (uV)\")\n",
    "        return fig, ax\n",
    "    \n",
    "    def plot_filt(self, start_idx=0, end_idx=None):\n",
    "        \"\"\"\n",
    "        Visualze bandpass filtered EEG Waveform\n",
    "        \"\"\"\n",
    "        if not(end_idx):\n",
    "            end_idx = self.filt_data.shape[0]\n",
    "        fig, ax = plt.subplots()\n",
    "        ax.plot(self.t[start_idx:end_idx], self.filt_data[start_idx:end_idx])\n",
    "        ax.set_xlabel(\"Time (s)\")\n",
    "        ax.set_ylabel(\"Voltage (uV)\")\n",
    "        return fig, ax\n",
    "    \n",
    "    def plot_tfr(self, channels, start_idx=0, end_idx=None):\n",
    "        \"\"\"\n",
    "        Visualize time-frequency representation before normalization\n",
    "        \"\"\"\n",
    "        if not(end_idx):\n",
    "            end_idx = len(self.t)\n",
    "        n_down = 20 #downsampling factor for plotting\n",
    "        start_idx = start_idx // n_down\n",
    "        end_idx = end_idx // n_down\n",
    "        down_t = self.t[:len(self.t):n_down]\n",
    "        down_t = down_t[start_idx:end_idx]\n",
    "        figs, axs = [], []\n",
    "        for channel in channels:\n",
    "            i = self.channels.index(channel)\n",
    "            down_tfr = decimate(self.tfr[i], n_down)\n",
    "            down_amp = np.abs(down_tfr)\n",
    "            down_amp = down_amp[:, start_idx:end_idx]\n",
    "            down_phase = np.angle(down_tfr)\n",
    "            down_phase = down_phase[:, start_idx:end_idx]\n",
    "            fig, ax = plt.subplots(2, 1)\n",
    "            pcm_amp = ax[0].pcolormesh(down_t, self.band_centers, down_amp, shading='auto')\n",
    "            cbar_amp = fig.colorbar(pcm_amp, ax=ax[0])\n",
    "            cbar_amp.set_label(\"Amplitude (uV)\")\n",
    "            pcm_phase = ax[1].pcolormesh(down_t, self.band_centers, down_phase, shading='auto')\n",
    "            cbar_phase = fig.colorbar(pcm_phase, ax=ax[1])\n",
    "            cbar_phase.set_label(\"Phase (radians)\")\n",
    "            fig.supxlabel(\"Time (s)\")\n",
    "            fig.supylabel(\"Frequency (Hz)\")\n",
    "            fig.suptitle(\"Channel {}\".format(channel))\n",
    "            figs.append(fig)\n",
    "            axs.append(ax)\n",
    "        return figs, axs\n",
    "    \n",
    "    def plot_feat(self, channels, subseg_idx=0):\n",
    "        \"\"\"\n",
    "        Visualize normalized, downsampled TFR for a specified subsegment \n",
    "        \"\"\"\n",
    "        subseg_phases = self.subsegments[subseg_idx][:self.num_channels, :, :]\n",
    "        subseg_amps = self.subsegments[subseg_idx][self.num_channels:, :, :]\n",
    "        figs, axs = [], []\n",
    "        for channel in channels:\n",
    "            i = self.channels.index(channel)\n",
    "            phase = subseg_phases[i, :, :]\n",
    "            amp = subseg_amps[i, :, :]\n",
    "            fig, ax = plt.subplots(2, 1)\n",
    "            pcm_amp = ax[0].pcolormesh(self.seg_t, self.band_centers, amp, shading='auto')\n",
    "            cbar_amp = fig.colorbar(pcm_amp, ax=ax[0])\n",
    "            cbar_amp.set_label(\"Amplitude (uV)\")\n",
    "            pcm_phase = ax[1].pcolormesh(self.seg_t, self.band_centers, phase, shading='auto')\n",
    "            cbar_phase = fig.colorbar(pcm_phase, ax=ax[1])\n",
    "            cbar_phase.set_label(\"Phase (radians)\")\n",
    "            fig.supxlabel(\"Time (s)\")\n",
    "            fig.supylabel(\"Frequency (Hz)\")\n",
    "            fig.suptitle(\"Channel {}\".format(channel))\n",
    "            figs.append(fig)\n",
    "            axs.append(ax)\n",
    "        return figs, axs\n",
    "            "
   ]
  },
  {
   "cell_type": "markdown",
   "id": "ebf14ee1",
   "metadata": {},
   "source": [
    "We check the preprocessing class on a sample segment"
   ]
  },
  {
   "cell_type": "code",
   "execution_count": 3,
   "id": "fc39a277",
   "metadata": {},
   "outputs": [
    {
     "data": {
      "image/png": "[encoded data removed]",
      "text/plain": [
       "<Figure size 432x288 with 1 Axes>"
      ]
     },
     "metadata": {
      "needs_background": "light"
     },
     "output_type": "display_data"
    },
    {
     "data": {
      "image/png": "[encoded data removed]",
      "text/plain": [
       "<Figure size 432x288 with 1 Axes>"
      ]
     },
     "metadata": {
      "needs_background": "light"
     },
     "output_type": "display_data"
    },
    {
     "data": {
      "image/png": "[encoded data removed]",
      "text/plain": [
       "<Figure size 432x288 with 1 Axes>"
      ]
     },
     "metadata": {
      "needs_background": "light"
     },
     "output_type": "display_data"
    },
    {
     "data": {
      "image/png": "[encoded data removed]",
      "text/plain": [
       "<Figure size 432x288 with 1 Axes>"
      ]
     },
     "metadata": {
      "needs_background": "light"
     },
     "output_type": "display_data"
    }
   ],
   "source": [
    "band_centers = [2, 6, 10, 20, 40]\n",
    "basepath = os.path.dirname(os.path.realpath(\"__file__\"))\n",
    "parentpath = os.path.split(basepath)[0]\n",
    "test_filepath = \"seizure-prediction/Patient_1/Patient_1/Patient_1_interictal_segment_0001.mat\"\n",
    "path = os.path.join(parentpath, test_filepath)\n",
    "varname = 'interictal_segment_1'\n",
    "interictal_1 = Segment(path, varname, band_centers)\n",
    "\n",
    "fig, ax = interictal_1.plot_raw()\n",
    "ax.set_title(\"Raw Voltage Recording\")\n",
    "fig, ax = interictal_1.plot_filt()\n",
    "ax.set_title(\"Filtered Voltage Recording\")\n",
    "fig, ax = interictal_1.plot_raw(end_idx=interictal_1.fs*4)\n",
    "ax.set_title(\"Raw Voltage Subsegment\")\n",
    "fig, ax = interictal_1.plot_filt(end_idx=interictal_1.fs*4)\n",
    "_ = ax.set_title(\"Filtered Voltage Subsegment\")"
   ]
  },
  {
   "cell_type": "markdown",
   "id": "8be57967",
   "metadata": {},
   "source": [
    "Visualize time-frequency representation"
   ]
  },
  {
   "cell_type": "code",
   "execution_count": 4,
   "id": "fac23504",
   "metadata": {},
   "outputs": [
    {
     "data": {
      "image/png": "[encoded data removed]",
      "text/plain": [
       "<Figure size 432x288 with 4 Axes>"
      ]
     },
     "metadata": {
      "needs_background": "light"
     },
     "output_type": "display_data"
    },
    {
     "data": {
      "image/png": "[encoded data removed]",
      "text/plain": [
       "<Figure size 432x288 with 4 Axes>"
      ]
     },
     "metadata": {
      "needs_background": "light"
     },
     "output_type": "display_data"
    },
    {
     "data": {
      "image/png": "[encoded data removed]",
      "text/plain": [
       "<Figure size 432x288 with 4 Axes>"
      ]
     },
     "metadata": {
      "needs_background": "light"
     },
     "output_type": "display_data"
    }
   ],
   "source": [
    "sample_channel = [interictal_1.channels[0]]\n",
    "figs, axs = interictal_1.plot_tfr(sample_channel)\n",
    "figs, axs = interictal_1.plot_tfr(sample_channel, end_idx=interictal_1.fs*4)\n",
    "figs, axs = interictal_1.plot_feat(sample_channel)"
   ]
  },
  {
   "cell_type": "code",
   "execution_count": 5,
   "id": "4f017e71",
   "metadata": {},
   "outputs": [],
   "source": [
    "del interictal_1 #remove sample segment from memory "
   ]
  },
  {
   "cell_type": "code",
   "execution_count": 6,
   "id": "667e0737",
   "metadata": {},
   "outputs": [],
   "source": [
    "class EEGPreProcessor:\n",
    "    \"\"\"\n",
    "    Class for pre-processing EEG data and extracting time-frequency representations\n",
    "    \"\"\"\n",
    "    def __init__(self, root, saveroot, band_centers, filt_ord=1, low_cut=0.5, high_cut=50, n_down=20, t_split=4):\n",
    "        self.root = root #directory that contains raw data\n",
    "        self.saveroot = saveroot #directory to save the preprocessed data\n",
    "        self.seg_params = {} #segment preprocessing parameters\n",
    "        self.band_centers = band_centers #frequencies for Morlet Wavelet Convolution\n",
    "        self.seg_params['filt_ord'] = filt_ord #filtering order\n",
    "        self.seg_params['low_cut'] = low_cut #low cutoff freq for bandpass\n",
    "        self.seg_params['high_cut'] = high_cut #high cutoff freq for bandpass\n",
    "        self.seg_params['n_down'] = n_down #downsampling factor\n",
    "        self.seg_params['t_split'] = t_split #subsegment length (s)\n",
    "    \n",
    "    def listsubfolders(self, root):\n",
    "        \"\"\"\n",
    "        Helper function to list the subfolders in a directory\n",
    "        \"\"\"\n",
    "        contents = os.listdir(root)\n",
    "        subfolders = []\n",
    "        for item in os.listdir(root):\n",
    "            item_path = os.path.join(root, item)\n",
    "            if not(os.path.isfile(item_path)):\n",
    "                subfolders.append(item)\n",
    "        return subfolders\n",
    "    \n",
    "    def __call__(self, pat_names):\n",
    "        if not(os.path.exists(self.saveroot)):\n",
    "            os.mkdir(self.saveroot)\n",
    "        for folder in self.listsubfolders(self.root):\n",
    "            if not(folder in pat_names):\n",
    "                continue\n",
    "            print(folder)\n",
    "            datapath = os.path.join(os.path.join(root, folder), folder)\n",
    "            save_pat_path = os.path.join(saveroot, folder)\n",
    "            if not(os.path.exists(save_pat_path)):\n",
    "                os.mkdir(save_pat_path)\n",
    "            matfiles = [file for file in os.listdir(datapath) if not(\"test\" in file or \".DS_Store\" in file)]\n",
    "            interictal_seg, preictal_seg = None, None\n",
    "            for matfile in tqdm(matfiles):\n",
    "                seg_path = os.path.join(datapath, matfile)\n",
    "                if \"interictal\" in matfile:\n",
    "                    seg_name = \"interictal_segment_\"+str(int(matfile[-8:-4]))\n",
    "                    seg = Segment(seg_path, seg_name, self.band_centers, **self.seg_params)\n",
    "                    y = np.array(0)\n",
    "                else: #preictal\n",
    "                    seg_name = \"preictal_segment_\"+str(int(matfile[-8:-4]))\n",
    "                    seg = Segment(seg_path, seg_name, self.band_centers, **self.seg_params)\n",
    "                    y = np.array(1)\n",
    "                save_seg_path = os.path.join(save_pat_path, seg_name)\n",
    "                if not(os.path.exists(save_seg_path)):\n",
    "                    os.mkdir(save_seg_path)\n",
    "                for i, subseg in enumerate(seg.subsegments):\n",
    "                    filepath = os.path.join(save_seg_path, str(i))\n",
    "                    np.savez(filepath, X=subseg, y=y)"
   ]
  },
  {
   "cell_type": "code",
   "execution_count": 7,
   "id": "3c1e5913",
   "metadata": {},
   "outputs": [],
   "source": [
    "root = os.path.join(parentpath, \"seizure-prediction\")\n",
    "saveroot = \"PreProcData\"\n",
    "my_proc = EEGPreProcessor(root, saveroot, band_centers)"
   ]
  },
  {
   "cell_type": "code",
   "execution_count": 8,
   "id": "8a9f0020",
   "metadata": {},
   "outputs": [
    {
     "name": "stdout",
     "output_type": "stream",
     "text": [
      "Patient_2\n"
     ]
    },
    {
     "data": {
      "application/vnd.jupyter.widget-view+json": {
       "model_id": "649bfc3cd3ab4211acd497f99a41f595",
       "version_major": 2,
       "version_minor": 0
      },
      "text/plain": [
       "  0%|          | 0/60 [00:00<?, ?it/s]"
      ]
     },
     "metadata": {},
     "output_type": "display_data"
    }
   ],
   "source": [
    "my_proc(\"Patient_2\")"
   ]
  },
  {
   "cell_type": "markdown",
   "id": "0a516522",
   "metadata": {},
   "source": [
    "## CNN"
   ]
  },
  {
   "cell_type": "code",
   "execution_count": 8,
   "id": "4a66b422",
   "metadata": {},
   "outputs": [],
   "source": [
    "import torch\n",
    "import torch.nn as nn\n",
    "from torch.utils.data import Dataset, DataLoader\n",
    "from scipy.integrate import trapz as trapz"
   ]
  },
  {
   "cell_type": "code",
   "execution_count": 9,
   "id": "d435ae36",
   "metadata": {},
   "outputs": [],
   "source": [
    "batch_size = 50 // 2"
   ]
  },
  {
   "cell_type": "markdown",
   "id": "188267f7",
   "metadata": {},
   "source": [
    "Set up Dataset and Dataloader"
   ]
  },
  {
   "cell_type": "code",
   "execution_count": 10,
   "id": "36123bad",
   "metadata": {},
   "outputs": [],
   "source": [
    "class SeizureData(Dataset):\n",
    "    \"\"\"Seizure Prediction Dataset\"\"\"\n",
    "    \n",
    "    def __init__(self, root, pat_name, seg_names, n_subseg):\n",
    "        self.root = root\n",
    "        self.pat_name = pat_name\n",
    "        self.dir_path = os.path.join(root, pat_name)\n",
    "        self.seg_names = seg_names\n",
    "        self.n_seg = len(seg_names)\n",
    "        self.n_subseg = n_subseg\n",
    "    \n",
    "    def __len__(self):\n",
    "        return self.n_seg*self.n_subseg\n",
    "    \n",
    "    def __getitem__(self, idx):\n",
    "        seg_idx = idx // self.n_subseg\n",
    "        subseg_idx = idx % self.n_subseg\n",
    "        seg_path = os.path.join(self.dir_path, self.seg_names[seg_idx])\n",
    "        subseg_path = os.path.join(seg_path, str(subseg_idx)+\".npz\")\n",
    "        subseg = np.load(subseg_path)\n",
    "        X = torch.tensor(subseg['X']).float()\n",
    "        y = torch.tensor(subseg['y']).float()\n",
    "        return X, y\n",
    "\n",
    "inter_segs = [seg_name for seg_name in os.listdir(\"PreProcData/Patient_1\") if \"interictal\" in seg_name]\n",
    "pre_segs = [seg_name for seg_name in os.listdir(\"PreProcData/Patient_1\") if \"preictal\" in seg_name]\n",
    "train_segs = inter_segs[:9]+pre_segs[:9]\n",
    "test_segs = inter_segs[9:18]+pre_segs[9:]\n",
    "n_subseg = 150\n",
    "train_dataset = SeizureData(\"PreProcData\", \"Patient_1\", train_segs, n_subseg)\n",
    "train_dataloader = DataLoader(train_dataset, batch_size=batch_size, shuffle=True)\n",
    "test_dataset = SeizureData(\"PreProcData\", \"Patient_1\", test_segs, n_subseg)\n",
    "test_dataloader = DataLoader(test_dataset, batch_size=n_subseg, shuffle=False)"
   ]
  },
  {
   "cell_type": "markdown",
   "id": "15488b41",
   "metadata": {},
   "source": [
    "Define Model Class"
   ]
  },
  {
   "cell_type": "code",
   "execution_count": 11,
   "id": "7a42e9b6",
   "metadata": {},
   "outputs": [
    {
     "data": {
      "text/plain": [
       "PredIctal(\n",
       "  (architecture): Sequential(\n",
       "    (0): Conv2d(30, 10, kernel_size=(5, 5), stride=(1, 1))\n",
       "    (1): ReLU()\n",
       "    (2): MaxPool2d(kernel_size=(1, 10), stride=2, padding=0, dilation=1, ceil_mode=False)\n",
       "    (3): Flatten(start_dim=1, end_dim=-1)\n",
       "    (4): Linear(in_features=4940, out_features=1, bias=True)\n",
       "    (5): Sigmoid()\n",
       "  )\n",
       ")"
      ]
     },
     "execution_count": 11,
     "metadata": {},
     "output_type": "execute_result"
    }
   ],
   "source": [
    "class PredIctal(nn.Module):\n",
    "    \"\"\"CNN for Predicting seizure from 4s subsegments\"\"\"\n",
    "    \n",
    "    def __init__(\n",
    "                self,\n",
    "                init_w=1000,\n",
    "                init_h=5,\n",
    "                num_channels=30,\n",
    "                width=10,\n",
    "                latent_size=20,\n",
    "                filter_size=5,\n",
    "                pool_filter_size=(1, 10),\n",
    "                pad=0,\n",
    "                stride=1,\n",
    "                pool_stride=2):\n",
    "        #inheriting nn.Module initialization\n",
    "        super(PredIctal, self).__init__()\n",
    "        \n",
    "        #architecture variables\n",
    "        self.init_w = init_w\n",
    "        self.init_h = init_h\n",
    "        self.num_channels = num_channels\n",
    "        self.width = width\n",
    "        self.latent_size = latent_size\n",
    "        self.filter_size = filter_size\n",
    "        self.pool_filter_size = pool_filter_size\n",
    "        self.pad = pad\n",
    "        self.stride = stride\n",
    "        self.pool_stride = pool_stride\n",
    "        \n",
    "        #output sizes\n",
    "        output1_w = (init_w - filter_size + 2*pad) // stride + 1\n",
    "        output1_h = (init_h - filter_size + 2*pad) // stride + 1\n",
    "        output2_w = (output1_w - pool_filter_size[1]) // pool_stride + 1\n",
    "        output2_h = (output1_h - pool_filter_size[0]) // pool_stride + 1\n",
    "        self.linear_size = output2_w * output2_h * self.width\n",
    "        \n",
    "        #architecture\n",
    "        self.architecture = nn.Sequential(\n",
    "            nn.Conv2d(self.num_channels, self.width, self.filter_size, self.stride, self.pad),\n",
    "            nn.ReLU(),\n",
    "            nn.MaxPool2d(self.pool_filter_size, self.pool_stride),\n",
    "            nn.Flatten(),\n",
    "            nn.Linear(self.linear_size, 1),\n",
    "            nn.Sigmoid()\n",
    "        )\n",
    "    \n",
    "    def forward(self, x):\n",
    "        return self.architecture(x).squeeze(1)\n",
    "\n",
    "PredIctal()"
   ]
  },
  {
   "cell_type": "markdown",
   "id": "5be4f947",
   "metadata": {},
   "source": [
    "Training Hyperparameters"
   ]
  },
  {
   "cell_type": "markdown",
   "id": "77c53990",
   "metadata": {},
   "source": [
    "Note: $\\lambda_{norm}$ is a L2 Norm Regularization parameter from [here](https://towardsdatascience.com/weight-decay-and-its-peculiar-effects-66e0aee3e7b8) "
   ]
  },
  {
   "cell_type": "code",
   "execution_count": 12,
   "id": "0c47c5f9",
   "metadata": {},
   "outputs": [],
   "source": [
    "learning_rate = 0.01 / 2\n",
    "num_epochs = 20\n",
    "epoch_nums = [epoch for epoch in range(num_epochs)]\n",
    "lambda_norm = 0.05 * 200\n",
    "weight_decay = lambda_norm*np.sqrt(batch_size/(num_epochs*len(train_dataset)))"
   ]
  },
  {
   "cell_type": "markdown",
   "id": "85ec98c2",
   "metadata": {},
   "source": [
    "Define weight initializer, training and eval loops"
   ]
  },
  {
   "cell_type": "code",
   "execution_count": 13,
   "id": "457906a2",
   "metadata": {},
   "outputs": [],
   "source": [
    "def weights_init(m):\n",
    "    if isinstance(m, nn.Conv1d) or isinstance(m, nn.Linear):\n",
    "        torch.nn.init.xavier_uniform_(m.weight.data)\n",
    "    return\n",
    "def train_loop(dataloader, model, loss_fn, optimizer, print_batch=False):\n",
    "    prog_bar =  tqdm(dataloader, leave=False)\n",
    "    for (x, y) in prog_bar:\n",
    "        #Forward Pass\n",
    "        pred = model(x)\n",
    "        loss = loss_fn(pred, y)\n",
    "        \n",
    "        #Backward Pass\n",
    "        optimizer.zero_grad()\n",
    "        loss.backward()\n",
    "        optimizer.step()\n",
    "    prog_bar.close()\n",
    "    return\n",
    "\n",
    "def eval_loop(dataloader, model, loss_fn, thresh=0.5, seg=False):\n",
    "    eval_loss, ys, preds, true_preds = 0, [], [], []\n",
    "    with torch.no_grad():\n",
    "        prog_bar = tqdm(dataloader, leave=False)\n",
    "        for x, y in prog_bar:\n",
    "            pred = model(x)\n",
    "            if seg:\n",
    "                seg_pred = torch.mean(pred)\n",
    "                true_preds.append(seg_pred)\n",
    "                seg_y = y[0]\n",
    "                eval_loss += loss_fn(seg_pred, seg_y).item()\n",
    "                ys.append(seg_y.item())\n",
    "                if seg_pred.item() >= thresh:\n",
    "                    preds.append(1)\n",
    "                else:\n",
    "                    preds.append(0)\n",
    "            else:\n",
    "                eval_loss += loss_fn(pred, y).item()\n",
    "                for yi, predi in zip(y, pred):\n",
    "                    ys.append(yi.item())\n",
    "                    true_preds.append(predi.item())\n",
    "                    if predi.item() >= thresh:\n",
    "                        preds.append(1)\n",
    "                    else:\n",
    "                        preds.append(0)\n",
    "        prog_bar.close()\n",
    "    avg_loss = eval_loss / len(dataloader)\n",
    "    \n",
    "    ys = np.array(ys)\n",
    "    preds = np.array(preds)\n",
    "    acc = np.sum(ys==preds) / len(ys)\n",
    "    prec, recall, f1, _ = prf(ys, preds)\n",
    "    stats = avg_loss, acc, prec, recall, f1\n",
    "    predsNlabels = ys, preds, true_preds\n",
    "    return stats, predsNlabels\n",
    "\n",
    "def roc_eval_loop(y, true_preds, thresholds):\n",
    "    fprs, tprs = [], []\n",
    "    for thresh in thresholds:\n",
    "        preds = true_preds >= thresh\n",
    "        true_pos = np.sum(np.logical_and(y==preds, preds==1))\n",
    "        false_pos = np.sum(np.logical_and(y!=preds, preds==1))\n",
    "        true_neg = np.sum(np.logical_and(y==preds, preds==0))\n",
    "        false_neg = np.sum(np.logical_and(y!=preds, preds==0))\n",
    "        tpr = true_pos / (false_neg + true_pos) #true positive rate\n",
    "        fpr = false_pos / (false_pos + true_neg) #false positive rate\n",
    "        tprs.append(tpr)\n",
    "        fprs.append(fpr)\n",
    "    fprs, tprs = np.flip(fprs), np.flip(tprs)\n",
    "    auc = trapz(tprs, fprs)\n",
    "\n",
    "    return tprs, fprs, auc\n",
    "\n",
    "def plot_init(dataloader, model, idx, ch_idx, freq_idx, num_channels=15):\n",
    "    with torch.no_grad():\n",
    "        for x, y in dataloader:\n",
    "            t = np.linspace(0, 4, x.shape[-1])\n",
    "            x_amps = x[:, num_channels:, :, :]\n",
    "            x_phases = x[:, :num_channels, :, :]\n",
    "            sample_amp = x_amps[idx, ch_idx, freq_idx, :]\n",
    "            sample_phase = x_phases[idx, ch_idx, freq_idx, :]\n",
    "            sample_y = y[idx]\n",
    "            pred = model(x).numpy()\n",
    "            sample_pred = pred[idx]\n",
    "\n",
    "            fig, ax = plt.subplots(2, 1)\n",
    "            ax[0].plot(t, sample_amp)\n",
    "            ax[1].plot(t, sample_phase)\n",
    "            ax[0].set_ylabel(\"Normalized Amplitude\")\n",
    "            ax[1].set_ylabel(\"Normalized Phase\")\n",
    "            ax[0].set_xticklabels([])\n",
    "            fig.supxlabel(\"Time (s)\")\n",
    "            plt.show()\n",
    "            \n",
    "            print(\"y={}, pred={}\".format(sample_y, sample_pred))\n",
    "            break"
   ]
  },
  {
   "cell_type": "markdown",
   "id": "444d78ea",
   "metadata": {},
   "source": [
    "Initialize"
   ]
  },
  {
   "cell_type": "code",
   "execution_count": 14,
   "id": "16aee112",
   "metadata": {
    "scrolled": true
   },
   "outputs": [
    {
     "data": {
      "image/png": "[encoded data removed]",
      "text/plain": [
       "<Figure size 432x288 with 2 Axes>"
      ]
     },
     "metadata": {
      "needs_background": "light"
     },
     "output_type": "display_data"
    },
    {
     "name": "stdout",
     "output_type": "stream",
     "text": [
      "y=0.0, pred=0.706413984298706\n"
     ]
    },
    {
     "data": {
      "application/vnd.jupyter.widget-view+json": {
       "model_id": "",
       "version_major": 2,
       "version_minor": 0
      },
      "text/plain": [
       "  0%|          | 0/108 [00:00<?, ?it/s]"
      ]
     },
     "metadata": {},
     "output_type": "display_data"
    },
    {
     "data": {
      "application/vnd.jupyter.widget-view+json": {
       "model_id": "",
       "version_major": 2,
       "version_minor": 0
      },
      "text/plain": [
       "  0%|          | 0/18 [00:00<?, ?it/s]"
      ]
     },
     "metadata": {},
     "output_type": "display_data"
    },
    {
     "data": {
      "application/vnd.jupyter.widget-view+json": {
       "model_id": "",
       "version_major": 2,
       "version_minor": 0
      },
      "text/plain": [
       "  0%|          | 0/18 [00:00<?, ?it/s]"
      ]
     },
     "metadata": {},
     "output_type": "display_data"
    },
    {
     "name": "stdout",
     "output_type": "stream",
     "text": [
      "\n",
      "        Train:\n",
      "            loss=0.762\n",
      "            acc=0.50\n",
      "                    interictal, preictal\n",
      "          precision= 0.58,    0.50\n",
      "          recall=    0.02,    0.99 \n",
      "          f1=        0.03,    0.67\n",
      "\n",
      "        Test:\n",
      "            loss=0.779\n",
      "            acc=0.50\n",
      "                    interictal, preictal\n",
      "          precision= 0.53,    0.50\n",
      "          recall=    0.01,    0.99 \n",
      "          f1=        0.01,    0.67\n",
      "\n",
      "        Segment:\n",
      "            loss=0.759\n",
      "            acc=0.50\n",
      "                    interictal, preictal\n",
      "          precision= 0.00,    0.50\n",
      "          recall=    0.00,    1.00\n",
      "          f1=        0.00,    0.67\n"
     ]
    },
    {
     "name": "stderr",
     "output_type": "stream",
     "text": [
      "/opt/anaconda3/lib/python3.8/site-packages/sklearn/metrics/_classification.py:1318: UndefinedMetricWarning: Precision and F-score are ill-defined and being set to 0.0 in labels with no predicted samples. Use `zero_division` parameter to control this behavior.\n",
      "  _warn_prf(average, modifier, msg_start, len(result))\n"
     ]
    }
   ],
   "source": [
    "torch.random.manual_seed(1)\n",
    "model = PredIctal().float()\n",
    "optimizer = torch.optim.Adam(model.parameters(), lr=learning_rate, weight_decay=weight_decay)\n",
    "scheduler = torch.optim.lr_scheduler.StepLR(optimizer, step_size=1, gamma=0.5)\n",
    "loss_fn = nn.BCELoss()\n",
    "model.apply(weights_init)\n",
    "idx, ch_idx, freq_idx = 0,0,0\n",
    "plot_init(train_dataloader, model, idx, ch_idx, freq_idx)\n",
    "init_train_stats, _ = eval_loop(train_dataloader, model, loss_fn)\n",
    "init_test_stats, _ = eval_loop(test_dataloader, model, loss_fn)\n",
    "init_seg_stats, _ = eval_loop(test_dataloader, model, loss_fn, seg=True)\n",
    "def print_stats(train_stats, test_stats):\n",
    "    print(\"\"\"\n",
    "        Train:\n",
    "            loss={:.3f}\n",
    "            acc={:.2f}\n",
    "                    interictal, preictal\n",
    "          precision= {:.2f},    {:.2f}\n",
    "          recall=    {:.2f},    {:.2f} \n",
    "          f1=        {:.2f},    {:.2f}\n",
    "\n",
    "        Test:\n",
    "            loss={:.3f}\n",
    "            acc={:.2f}\n",
    "                    interictal, preictal\n",
    "          precision= {:.2f},    {:.2f}\n",
    "          recall=    {:.2f},    {:.2f} \n",
    "          f1=        {:.2f},    {:.2f}\"\"\".format(\n",
    "        train_stats[0], train_stats[1], train_stats[2][0], train_stats[2][1],\n",
    "        train_stats[3][0], train_stats[3][1], train_stats[4][0], train_stats[4][1],\n",
    "        test_stats[0], test_stats[1], test_stats[2][0], test_stats[2][1],\n",
    "        test_stats[3][0], test_stats[3][1], test_stats[4][0], test_stats[4][1]))\n",
    "def print_segstats(seg_stats):\n",
    "    print(\"\"\"\n",
    "        Segment:\n",
    "            loss={:.3f}\n",
    "            acc={:.2f}\n",
    "                    interictal, preictal\n",
    "          precision= {:.2f},    {:.2f}\n",
    "          recall=    {:.2f},    {:.2f}\n",
    "          f1=        {:.2f},    {:.2f}\"\"\".format(\n",
    "        seg_stats[0], seg_stats[1], seg_stats[2][0], seg_stats[2][1],\n",
    "        seg_stats[3][0], seg_stats[3][1], seg_stats[4][0], seg_stats[4][1]))\n",
    "print_stats(init_train_stats, init_test_stats)\n",
    "print_segstats(init_seg_stats)"
   ]
  },
  {
   "cell_type": "markdown",
   "id": "96559f8f",
   "metadata": {},
   "source": [
    "Train"
   ]
  },
  {
   "cell_type": "code",
   "execution_count": 51,
   "id": "0f00c0ee",
   "metadata": {},
   "outputs": [
    {
     "data": {
      "application/vnd.jupyter.widget-view+json": {
       "model_id": "",
       "version_major": 2,
       "version_minor": 0
      },
      "text/plain": [
       "  0%|          | 0/108 [00:00<?, ?it/s]"
      ]
     },
     "metadata": {},
     "output_type": "display_data"
    },
    {
     "data": {
      "application/vnd.jupyter.widget-view+json": {
       "model_id": "",
       "version_major": 2,
       "version_minor": 0
      },
      "text/plain": [
       "  0%|          | 0/108 [00:00<?, ?it/s]"
      ]
     },
     "metadata": {},
     "output_type": "display_data"
    },
    {
     "data": {
      "application/vnd.jupyter.widget-view+json": {
       "model_id": "",
       "version_major": 2,
       "version_minor": 0
      },
      "text/plain": [
       "  0%|          | 0/18 [00:00<?, ?it/s]"
      ]
     },
     "metadata": {},
     "output_type": "display_data"
    },
    {
     "name": "stdout",
     "output_type": "stream",
     "text": [
      "Epoch: 0\n",
      "\n",
      "        Train:\n",
      "            loss=0.468\n",
      "            acc=0.76\n",
      "                    interictal, preictal\n",
      "          precision= 0.95,    0.68\n",
      "          recall=    0.54,    0.97 \n",
      "          f1=        0.69,    0.80\n",
      "\n",
      "        Test:\n",
      "            loss=0.687\n",
      "            acc=0.64\n",
      "                    interictal, preictal\n",
      "          precision= 0.91,    0.58\n",
      "          recall=    0.30,    0.97 \n",
      "          f1=        0.45,    0.73\n"
     ]
    },
    {
     "data": {
      "application/vnd.jupyter.widget-view+json": {
       "model_id": "",
       "version_major": 2,
       "version_minor": 0
      },
      "text/plain": [
       "  0%|          | 0/108 [00:00<?, ?it/s]"
      ]
     },
     "metadata": {},
     "output_type": "display_data"
    },
    {
     "data": {
      "application/vnd.jupyter.widget-view+json": {
       "model_id": "",
       "version_major": 2,
       "version_minor": 0
      },
      "text/plain": [
       "  0%|          | 0/108 [00:00<?, ?it/s]"
      ]
     },
     "metadata": {},
     "output_type": "display_data"
    },
    {
     "data": {
      "application/vnd.jupyter.widget-view+json": {
       "model_id": "",
       "version_major": 2,
       "version_minor": 0
      },
      "text/plain": [
       "  0%|          | 0/18 [00:00<?, ?it/s]"
      ]
     },
     "metadata": {},
     "output_type": "display_data"
    },
    {
     "name": "stdout",
     "output_type": "stream",
     "text": [
      "New Learnign Rate: 0.0025\n",
      "Epoch: 1\n",
      "\n",
      "        Train:\n",
      "            loss=0.562\n",
      "            acc=0.73\n",
      "                    interictal, preictal\n",
      "          precision= 0.68,    0.85\n",
      "          recall=    0.90,    0.57 \n",
      "          f1=        0.77,    0.68\n",
      "\n",
      "        Test:\n",
      "            loss=0.657\n",
      "            acc=0.65\n",
      "                    interictal, preictal\n",
      "          precision= 0.61,    0.74\n",
      "          recall=    0.84,    0.47 \n",
      "          f1=        0.71,    0.58\n"
     ]
    },
    {
     "data": {
      "application/vnd.jupyter.widget-view+json": {
       "model_id": "",
       "version_major": 2,
       "version_minor": 0
      },
      "text/plain": [
       "  0%|          | 0/108 [00:00<?, ?it/s]"
      ]
     },
     "metadata": {},
     "output_type": "display_data"
    },
    {
     "data": {
      "application/vnd.jupyter.widget-view+json": {
       "model_id": "",
       "version_major": 2,
       "version_minor": 0
      },
      "text/plain": [
       "  0%|          | 0/108 [00:00<?, ?it/s]"
      ]
     },
     "metadata": {},
     "output_type": "display_data"
    },
    {
     "data": {
      "application/vnd.jupyter.widget-view+json": {
       "model_id": "",
       "version_major": 2,
       "version_minor": 0
      },
      "text/plain": [
       "  0%|          | 0/18 [00:00<?, ?it/s]"
      ]
     },
     "metadata": {},
     "output_type": "display_data"
    },
    {
     "name": "stdout",
     "output_type": "stream",
     "text": [
      "Epoch: 2\n",
      "\n",
      "        Train:\n",
      "            loss=0.465\n",
      "            acc=0.77\n",
      "                    interictal, preictal\n",
      "          precision= 0.96,    0.69\n",
      "          recall=    0.55,    0.98 \n",
      "          f1=        0.70,    0.81\n",
      "\n",
      "        Test:\n",
      "            loss=0.756\n",
      "            acc=0.62\n",
      "                    interictal, preictal\n",
      "          precision= 0.96,    0.57\n",
      "          recall=    0.26,    0.99 \n",
      "          f1=        0.41,    0.72\n"
     ]
    },
    {
     "data": {
      "application/vnd.jupyter.widget-view+json": {
       "model_id": "",
       "version_major": 2,
       "version_minor": 0
      },
      "text/plain": [
       "  0%|          | 0/108 [00:00<?, ?it/s]"
      ]
     },
     "metadata": {},
     "output_type": "display_data"
    },
    {
     "data": {
      "application/vnd.jupyter.widget-view+json": {
       "model_id": "",
       "version_major": 2,
       "version_minor": 0
      },
      "text/plain": [
       "  0%|          | 0/108 [00:00<?, ?it/s]"
      ]
     },
     "metadata": {},
     "output_type": "display_data"
    },
    {
     "data": {
      "application/vnd.jupyter.widget-view+json": {
       "model_id": "",
       "version_major": 2,
       "version_minor": 0
      },
      "text/plain": [
       "  0%|          | 0/18 [00:00<?, ?it/s]"
      ]
     },
     "metadata": {},
     "output_type": "display_data"
    },
    {
     "name": "stdout",
     "output_type": "stream",
     "text": [
      "Epoch: 3\n",
      "\n",
      "        Train:\n",
      "            loss=0.363\n",
      "            acc=0.83\n",
      "                    interictal, preictal\n",
      "          precision= 0.91,    0.78\n",
      "          recall=    0.73,    0.93 \n",
      "          f1=        0.81,    0.85\n",
      "\n",
      "        Test:\n",
      "            loss=0.598\n",
      "            acc=0.69\n",
      "                    interictal, preictal\n",
      "          precision= 0.84,    0.64\n",
      "          recall=    0.48,    0.91 \n",
      "          f1=        0.61,    0.75\n"
     ]
    },
    {
     "data": {
      "application/vnd.jupyter.widget-view+json": {
       "model_id": "",
       "version_major": 2,
       "version_minor": 0
      },
      "text/plain": [
       "  0%|          | 0/108 [00:00<?, ?it/s]"
      ]
     },
     "metadata": {},
     "output_type": "display_data"
    },
    {
     "data": {
      "application/vnd.jupyter.widget-view+json": {
       "model_id": "",
       "version_major": 2,
       "version_minor": 0
      },
      "text/plain": [
       "  0%|          | 0/108 [00:00<?, ?it/s]"
      ]
     },
     "metadata": {},
     "output_type": "display_data"
    },
    {
     "data": {
      "application/vnd.jupyter.widget-view+json": {
       "model_id": "",
       "version_major": 2,
       "version_minor": 0
      },
      "text/plain": [
       "  0%|          | 0/18 [00:00<?, ?it/s]"
      ]
     },
     "metadata": {},
     "output_type": "display_data"
    },
    {
     "name": "stdout",
     "output_type": "stream",
     "text": [
      "Epoch: 4\n",
      "\n",
      "        Train:\n",
      "            loss=0.312\n",
      "            acc=0.88\n",
      "                    interictal, preictal\n",
      "          precision= 0.87,    0.89\n",
      "          recall=    0.89,    0.87 \n",
      "          f1=        0.88,    0.88\n",
      "\n",
      "        Test:\n",
      "            loss=0.440\n",
      "            acc=0.81\n",
      "                    interictal, preictal\n",
      "          precision= 0.88,    0.76\n",
      "          recall=    0.72,    0.90 \n",
      "          f1=        0.79,    0.83\n"
     ]
    },
    {
     "data": {
      "application/vnd.jupyter.widget-view+json": {
       "model_id": "",
       "version_major": 2,
       "version_minor": 0
      },
      "text/plain": [
       "  0%|          | 0/108 [00:00<?, ?it/s]"
      ]
     },
     "metadata": {},
     "output_type": "display_data"
    },
    {
     "data": {
      "application/vnd.jupyter.widget-view+json": {
       "model_id": "",
       "version_major": 2,
       "version_minor": 0
      },
      "text/plain": [
       "  0%|          | 0/108 [00:00<?, ?it/s]"
      ]
     },
     "metadata": {},
     "output_type": "display_data"
    },
    {
     "data": {
      "application/vnd.jupyter.widget-view+json": {
       "model_id": "",
       "version_major": 2,
       "version_minor": 0
      },
      "text/plain": [
       "  0%|          | 0/18 [00:00<?, ?it/s]"
      ]
     },
     "metadata": {},
     "output_type": "display_data"
    },
    {
     "name": "stdout",
     "output_type": "stream",
     "text": [
      "New Learnign Rate: 0.00125\n",
      "Epoch: 5\n",
      "\n",
      "        Train:\n",
      "            loss=0.326\n",
      "            acc=0.88\n",
      "                    interictal, preictal\n",
      "          precision= 0.84,    0.92\n",
      "          recall=    0.93,    0.82 \n",
      "          f1=        0.88,    0.87\n",
      "\n",
      "        Test:\n",
      "            loss=0.440\n",
      "            acc=0.80\n",
      "                    interictal, preictal\n",
      "          precision= 0.80,    0.80\n",
      "          recall=    0.80,    0.81 \n",
      "          f1=        0.80,    0.80\n"
     ]
    },
    {
     "data": {
      "application/vnd.jupyter.widget-view+json": {
       "model_id": "",
       "version_major": 2,
       "version_minor": 0
      },
      "text/plain": [
       "  0%|          | 0/108 [00:00<?, ?it/s]"
      ]
     },
     "metadata": {},
     "output_type": "display_data"
    },
    {
     "data": {
      "application/vnd.jupyter.widget-view+json": {
       "model_id": "",
       "version_major": 2,
       "version_minor": 0
      },
      "text/plain": [
       "  0%|          | 0/108 [00:00<?, ?it/s]"
      ]
     },
     "metadata": {},
     "output_type": "display_data"
    },
    {
     "data": {
      "application/vnd.jupyter.widget-view+json": {
       "model_id": "",
       "version_major": 2,
       "version_minor": 0
      },
      "text/plain": [
       "  0%|          | 0/18 [00:00<?, ?it/s]"
      ]
     },
     "metadata": {},
     "output_type": "display_data"
    },
    {
     "name": "stdout",
     "output_type": "stream",
     "text": [
      "Epoch: 6\n",
      "\n",
      "        Train:\n",
      "            loss=0.309\n",
      "            acc=0.88\n",
      "                    interictal, preictal\n",
      "          precision= 0.87,    0.89\n",
      "          recall=    0.89,    0.86 \n",
      "          f1=        0.88,    0.87\n",
      "\n",
      "        Test:\n",
      "            loss=0.464\n",
      "            acc=0.78\n",
      "                    interictal, preictal\n",
      "          precision= 0.82,    0.76\n",
      "          recall=    0.73,    0.83 \n",
      "          f1=        0.77,    0.79\n"
     ]
    },
    {
     "data": {
      "application/vnd.jupyter.widget-view+json": {
       "model_id": "",
       "version_major": 2,
       "version_minor": 0
      },
      "text/plain": [
       "  0%|          | 0/108 [00:00<?, ?it/s]"
      ]
     },
     "metadata": {},
     "output_type": "display_data"
    },
    {
     "data": {
      "application/vnd.jupyter.widget-view+json": {
       "model_id": "",
       "version_major": 2,
       "version_minor": 0
      },
      "text/plain": [
       "  0%|          | 0/108 [00:00<?, ?it/s]"
      ]
     },
     "metadata": {},
     "output_type": "display_data"
    },
    {
     "data": {
      "application/vnd.jupyter.widget-view+json": {
       "model_id": "",
       "version_major": 2,
       "version_minor": 0
      },
      "text/plain": [
       "  0%|          | 0/18 [00:00<?, ?it/s]"
      ]
     },
     "metadata": {},
     "output_type": "display_data"
    },
    {
     "name": "stdout",
     "output_type": "stream",
     "text": [
      "New Learnign Rate: 0.000625\n",
      "Epoch: 7\n",
      "\n",
      "        Train:\n",
      "            loss=0.312\n",
      "            acc=0.88\n",
      "                    interictal, preictal\n",
      "          precision= 0.87,    0.89\n",
      "          recall=    0.89,    0.86 \n",
      "          f1=        0.88,    0.88\n",
      "\n",
      "        Test:\n",
      "            loss=0.416\n",
      "            acc=0.81\n",
      "                    interictal, preictal\n",
      "          precision= 0.87,    0.77\n",
      "          recall=    0.73,    0.89 \n",
      "          f1=        0.80,    0.83\n"
     ]
    },
    {
     "data": {
      "application/vnd.jupyter.widget-view+json": {
       "model_id": "",
       "version_major": 2,
       "version_minor": 0
      },
      "text/plain": [
       "  0%|          | 0/108 [00:00<?, ?it/s]"
      ]
     },
     "metadata": {},
     "output_type": "display_data"
    },
    {
     "data": {
      "application/vnd.jupyter.widget-view+json": {
       "model_id": "",
       "version_major": 2,
       "version_minor": 0
      },
      "text/plain": [
       "  0%|          | 0/108 [00:00<?, ?it/s]"
      ]
     },
     "metadata": {},
     "output_type": "display_data"
    },
    {
     "data": {
      "application/vnd.jupyter.widget-view+json": {
       "model_id": "",
       "version_major": 2,
       "version_minor": 0
      },
      "text/plain": [
       "  0%|          | 0/18 [00:00<?, ?it/s]"
      ]
     },
     "metadata": {},
     "output_type": "display_data"
    },
    {
     "name": "stdout",
     "output_type": "stream",
     "text": [
      "Epoch: 8\n",
      "\n",
      "        Train:\n",
      "            loss=0.296\n",
      "            acc=0.89\n",
      "                    interictal, preictal\n",
      "          precision= 0.87,    0.90\n",
      "          recall=    0.91,    0.87 \n",
      "          f1=        0.89,    0.88\n",
      "\n",
      "        Test:\n",
      "            loss=0.415\n",
      "            acc=0.82\n",
      "                    interictal, preictal\n",
      "          precision= 0.88,    0.78\n",
      "          recall=    0.75,    0.90 \n",
      "          f1=        0.81,    0.83\n"
     ]
    },
    {
     "data": {
      "application/vnd.jupyter.widget-view+json": {
       "model_id": "",
       "version_major": 2,
       "version_minor": 0
      },
      "text/plain": [
       "  0%|          | 0/108 [00:00<?, ?it/s]"
      ]
     },
     "metadata": {},
     "output_type": "display_data"
    },
    {
     "data": {
      "application/vnd.jupyter.widget-view+json": {
       "model_id": "",
       "version_major": 2,
       "version_minor": 0
      },
      "text/plain": [
       "  0%|          | 0/108 [00:00<?, ?it/s]"
      ]
     },
     "metadata": {},
     "output_type": "display_data"
    },
    {
     "data": {
      "application/vnd.jupyter.widget-view+json": {
       "model_id": "",
       "version_major": 2,
       "version_minor": 0
      },
      "text/plain": [
       "  0%|          | 0/18 [00:00<?, ?it/s]"
      ]
     },
     "metadata": {},
     "output_type": "display_data"
    },
    {
     "name": "stdout",
     "output_type": "stream",
     "text": [
      "New Learnign Rate: 0.0003125\n",
      "Epoch: 9\n",
      "\n",
      "        Train:\n",
      "            loss=0.306\n",
      "            acc=0.88\n",
      "                    interictal, preictal\n",
      "          precision= 0.93,    0.84\n",
      "          recall=    0.82,    0.93 \n",
      "          f1=        0.87,    0.88\n",
      "\n",
      "        Test:\n",
      "            loss=0.521\n",
      "            acc=0.74\n",
      "                    interictal, preictal\n",
      "          precision= 0.84,    0.68\n",
      "          recall=    0.58,    0.89 \n",
      "          f1=        0.69,    0.77\n"
     ]
    },
    {
     "data": {
      "application/vnd.jupyter.widget-view+json": {
       "model_id": "",
       "version_major": 2,
       "version_minor": 0
      },
      "text/plain": [
       "  0%|          | 0/108 [00:00<?, ?it/s]"
      ]
     },
     "metadata": {},
     "output_type": "display_data"
    },
    {
     "data": {
      "application/vnd.jupyter.widget-view+json": {
       "model_id": "",
       "version_major": 2,
       "version_minor": 0
      },
      "text/plain": [
       "  0%|          | 0/108 [00:00<?, ?it/s]"
      ]
     },
     "metadata": {},
     "output_type": "display_data"
    },
    {
     "data": {
      "application/vnd.jupyter.widget-view+json": {
       "model_id": "",
       "version_major": 2,
       "version_minor": 0
      },
      "text/plain": [
       "  0%|          | 0/18 [00:00<?, ?it/s]"
      ]
     },
     "metadata": {},
     "output_type": "display_data"
    },
    {
     "name": "stdout",
     "output_type": "stream",
     "text": [
      "Epoch: 10\n",
      "\n",
      "        Train:\n",
      "            loss=0.295\n",
      "            acc=0.89\n",
      "                    interictal, preictal\n",
      "          precision= 0.87,    0.91\n",
      "          recall=    0.92,    0.86 \n",
      "          f1=        0.89,    0.89\n",
      "\n",
      "        Test:\n",
      "            loss=0.426\n",
      "            acc=0.81\n",
      "                    interictal, preictal\n",
      "          precision= 0.84,    0.79\n",
      "          recall=    0.78,    0.85 \n",
      "          f1=        0.81,    0.82\n"
     ]
    },
    {
     "data": {
      "application/vnd.jupyter.widget-view+json": {
       "model_id": "",
       "version_major": 2,
       "version_minor": 0
      },
      "text/plain": [
       "  0%|          | 0/108 [00:00<?, ?it/s]"
      ]
     },
     "metadata": {},
     "output_type": "display_data"
    },
    {
     "data": {
      "application/vnd.jupyter.widget-view+json": {
       "model_id": "",
       "version_major": 2,
       "version_minor": 0
      },
      "text/plain": [
       "  0%|          | 0/108 [00:00<?, ?it/s]"
      ]
     },
     "metadata": {},
     "output_type": "display_data"
    },
    {
     "data": {
      "application/vnd.jupyter.widget-view+json": {
       "model_id": "",
       "version_major": 2,
       "version_minor": 0
      },
      "text/plain": [
       "  0%|          | 0/18 [00:00<?, ?it/s]"
      ]
     },
     "metadata": {},
     "output_type": "display_data"
    },
    {
     "name": "stdout",
     "output_type": "stream",
     "text": [
      "Epoch: 11\n",
      "\n",
      "        Train:\n",
      "            loss=0.291\n",
      "            acc=0.89\n",
      "                    interictal, preictal\n",
      "          precision= 0.87,    0.90\n",
      "          recall=    0.91,    0.86 \n",
      "          f1=        0.89,    0.88\n",
      "\n",
      "        Test:\n",
      "            loss=0.439\n",
      "            acc=0.81\n",
      "                    interictal, preictal\n",
      "          precision= 0.84,    0.78\n",
      "          recall=    0.76,    0.85 \n",
      "          f1=        0.80,    0.81\n"
     ]
    },
    {
     "data": {
      "application/vnd.jupyter.widget-view+json": {
       "model_id": "",
       "version_major": 2,
       "version_minor": 0
      },
      "text/plain": [
       "  0%|          | 0/108 [00:00<?, ?it/s]"
      ]
     },
     "metadata": {},
     "output_type": "display_data"
    },
    {
     "data": {
      "application/vnd.jupyter.widget-view+json": {
       "model_id": "",
       "version_major": 2,
       "version_minor": 0
      },
      "text/plain": [
       "  0%|          | 0/108 [00:00<?, ?it/s]"
      ]
     },
     "metadata": {},
     "output_type": "display_data"
    },
    {
     "data": {
      "application/vnd.jupyter.widget-view+json": {
       "model_id": "",
       "version_major": 2,
       "version_minor": 0
      },
      "text/plain": [
       "  0%|          | 0/18 [00:00<?, ?it/s]"
      ]
     },
     "metadata": {},
     "output_type": "display_data"
    },
    {
     "name": "stdout",
     "output_type": "stream",
     "text": [
      "New Learnign Rate: 0.00015625\n",
      "Epoch: 12\n",
      "\n",
      "        Train:\n",
      "            loss=0.292\n",
      "            acc=0.88\n",
      "                    interictal, preictal\n",
      "          precision= 0.87,    0.90\n",
      "          recall=    0.90,    0.87 \n",
      "          f1=        0.89,    0.88\n",
      "\n",
      "        Test:\n",
      "            loss=0.437\n",
      "            acc=0.80\n",
      "                    interictal, preictal\n",
      "          precision= 0.83,    0.77\n",
      "          recall=    0.75,    0.85 \n",
      "          f1=        0.79,    0.81\n"
     ]
    },
    {
     "data": {
      "application/vnd.jupyter.widget-view+json": {
       "model_id": "",
       "version_major": 2,
       "version_minor": 0
      },
      "text/plain": [
       "  0%|          | 0/108 [00:00<?, ?it/s]"
      ]
     },
     "metadata": {},
     "output_type": "display_data"
    },
    {
     "data": {
      "application/vnd.jupyter.widget-view+json": {
       "model_id": "",
       "version_major": 2,
       "version_minor": 0
      },
      "text/plain": [
       "  0%|          | 0/108 [00:00<?, ?it/s]"
      ]
     },
     "metadata": {},
     "output_type": "display_data"
    },
    {
     "data": {
      "application/vnd.jupyter.widget-view+json": {
       "model_id": "",
       "version_major": 2,
       "version_minor": 0
      },
      "text/plain": [
       "  0%|          | 0/18 [00:00<?, ?it/s]"
      ]
     },
     "metadata": {},
     "output_type": "display_data"
    },
    {
     "name": "stdout",
     "output_type": "stream",
     "text": [
      "Epoch: 13\n",
      "\n",
      "        Train:\n",
      "            loss=0.290\n",
      "            acc=0.89\n",
      "                    interictal, preictal\n",
      "          precision= 0.87,    0.91\n",
      "          recall=    0.91,    0.87 \n",
      "          f1=        0.89,    0.89\n",
      "\n",
      "        Test:\n",
      "            loss=0.432\n",
      "            acc=0.81\n",
      "                    interictal, preictal\n",
      "          precision= 0.84,    0.79\n",
      "          recall=    0.77,    0.86 \n",
      "          f1=        0.80,    0.82\n"
     ]
    },
    {
     "data": {
      "application/vnd.jupyter.widget-view+json": {
       "model_id": "",
       "version_major": 2,
       "version_minor": 0
      },
      "text/plain": [
       "  0%|          | 0/108 [00:00<?, ?it/s]"
      ]
     },
     "metadata": {},
     "output_type": "display_data"
    },
    {
     "data": {
      "application/vnd.jupyter.widget-view+json": {
       "model_id": "",
       "version_major": 2,
       "version_minor": 0
      },
      "text/plain": [
       "  0%|          | 0/108 [00:00<?, ?it/s]"
      ]
     },
     "metadata": {},
     "output_type": "display_data"
    },
    {
     "data": {
      "application/vnd.jupyter.widget-view+json": {
       "model_id": "",
       "version_major": 2,
       "version_minor": 0
      },
      "text/plain": [
       "  0%|          | 0/18 [00:00<?, ?it/s]"
      ]
     },
     "metadata": {},
     "output_type": "display_data"
    },
    {
     "name": "stdout",
     "output_type": "stream",
     "text": [
      "Epoch: 14\n",
      "\n",
      "        Train:\n",
      "            loss=0.287\n",
      "            acc=0.89\n",
      "                    interictal, preictal\n",
      "          precision= 0.89,    0.89\n",
      "          recall=    0.90,    0.88 \n",
      "          f1=        0.89,    0.89\n",
      "\n",
      "        Test:\n",
      "            loss=0.449\n",
      "            acc=0.80\n",
      "                    interictal, preictal\n",
      "          precision= 0.84,    0.77\n",
      "          recall=    0.74,    0.85 \n",
      "          f1=        0.78,    0.81\n"
     ]
    },
    {
     "data": {
      "application/vnd.jupyter.widget-view+json": {
       "model_id": "",
       "version_major": 2,
       "version_minor": 0
      },
      "text/plain": [
       "  0%|          | 0/108 [00:00<?, ?it/s]"
      ]
     },
     "metadata": {},
     "output_type": "display_data"
    },
    {
     "data": {
      "application/vnd.jupyter.widget-view+json": {
       "model_id": "",
       "version_major": 2,
       "version_minor": 0
      },
      "text/plain": [
       "  0%|          | 0/108 [00:00<?, ?it/s]"
      ]
     },
     "metadata": {},
     "output_type": "display_data"
    },
    {
     "data": {
      "application/vnd.jupyter.widget-view+json": {
       "model_id": "",
       "version_major": 2,
       "version_minor": 0
      },
      "text/plain": [
       "  0%|          | 0/18 [00:00<?, ?it/s]"
      ]
     },
     "metadata": {},
     "output_type": "display_data"
    },
    {
     "name": "stdout",
     "output_type": "stream",
     "text": [
      "Epoch: 15\n",
      "\n",
      "        Train:\n",
      "            loss=0.287\n",
      "            acc=0.89\n",
      "                    interictal, preictal\n",
      "          precision= 0.89,    0.89\n",
      "          recall=    0.89,    0.89 \n",
      "          f1=        0.89,    0.89\n",
      "\n",
      "        Test:\n",
      "            loss=0.446\n",
      "            acc=0.79\n",
      "                    interictal, preictal\n",
      "          precision= 0.86,    0.75\n",
      "          recall=    0.71,    0.88 \n",
      "          f1=        0.78,    0.81\n"
     ]
    },
    {
     "data": {
      "application/vnd.jupyter.widget-view+json": {
       "model_id": "",
       "version_major": 2,
       "version_minor": 0
      },
      "text/plain": [
       "  0%|          | 0/108 [00:00<?, ?it/s]"
      ]
     },
     "metadata": {},
     "output_type": "display_data"
    },
    {
     "data": {
      "application/vnd.jupyter.widget-view+json": {
       "model_id": "",
       "version_major": 2,
       "version_minor": 0
      },
      "text/plain": [
       "  0%|          | 0/108 [00:00<?, ?it/s]"
      ]
     },
     "metadata": {},
     "output_type": "display_data"
    },
    {
     "data": {
      "application/vnd.jupyter.widget-view+json": {
       "model_id": "",
       "version_major": 2,
       "version_minor": 0
      },
      "text/plain": [
       "  0%|          | 0/18 [00:00<?, ?it/s]"
      ]
     },
     "metadata": {},
     "output_type": "display_data"
    },
    {
     "name": "stdout",
     "output_type": "stream",
     "text": [
      "New Learnign Rate: 7.8125e-05\n",
      "Epoch: 16\n",
      "\n",
      "        Train:\n",
      "            loss=0.289\n",
      "            acc=0.89\n",
      "                    interictal, preictal\n",
      "          precision= 0.90,    0.87\n",
      "          recall=    0.87,    0.91 \n",
      "          f1=        0.88,    0.89\n",
      "\n",
      "        Test:\n",
      "            loss=0.465\n",
      "            acc=0.78\n",
      "                    interictal, preictal\n",
      "          precision= 0.86,    0.73\n",
      "          recall=    0.68,    0.89 \n",
      "          f1=        0.76,    0.81\n"
     ]
    },
    {
     "data": {
      "application/vnd.jupyter.widget-view+json": {
       "model_id": "",
       "version_major": 2,
       "version_minor": 0
      },
      "text/plain": [
       "  0%|          | 0/108 [00:00<?, ?it/s]"
      ]
     },
     "metadata": {},
     "output_type": "display_data"
    },
    {
     "data": {
      "application/vnd.jupyter.widget-view+json": {
       "model_id": "",
       "version_major": 2,
       "version_minor": 0
      },
      "text/plain": [
       "  0%|          | 0/108 [00:00<?, ?it/s]"
      ]
     },
     "metadata": {},
     "output_type": "display_data"
    },
    {
     "data": {
      "application/vnd.jupyter.widget-view+json": {
       "model_id": "",
       "version_major": 2,
       "version_minor": 0
      },
      "text/plain": [
       "  0%|          | 0/18 [00:00<?, ?it/s]"
      ]
     },
     "metadata": {},
     "output_type": "display_data"
    },
    {
     "name": "stdout",
     "output_type": "stream",
     "text": [
      "Epoch: 17\n",
      "\n",
      "        Train:\n",
      "            loss=0.288\n",
      "            acc=0.89\n",
      "                    interictal, preictal\n",
      "          precision= 0.90,    0.87\n",
      "          recall=    0.87,    0.91 \n",
      "          f1=        0.89,    0.89\n",
      "\n",
      "        Test:\n",
      "            loss=0.465\n",
      "            acc=0.79\n",
      "                    interictal, preictal\n",
      "          precision= 0.85,    0.74\n",
      "          recall=    0.69,    0.88 \n",
      "          f1=        0.77,    0.81\n"
     ]
    },
    {
     "data": {
      "application/vnd.jupyter.widget-view+json": {
       "model_id": "",
       "version_major": 2,
       "version_minor": 0
      },
      "text/plain": [
       "  0%|          | 0/108 [00:00<?, ?it/s]"
      ]
     },
     "metadata": {},
     "output_type": "display_data"
    },
    {
     "data": {
      "application/vnd.jupyter.widget-view+json": {
       "model_id": "",
       "version_major": 2,
       "version_minor": 0
      },
      "text/plain": [
       "  0%|          | 0/108 [00:00<?, ?it/s]"
      ]
     },
     "metadata": {},
     "output_type": "display_data"
    },
    {
     "data": {
      "application/vnd.jupyter.widget-view+json": {
       "model_id": "",
       "version_major": 2,
       "version_minor": 0
      },
      "text/plain": [
       "  0%|          | 0/18 [00:00<?, ?it/s]"
      ]
     },
     "metadata": {},
     "output_type": "display_data"
    },
    {
     "name": "stdout",
     "output_type": "stream",
     "text": [
      "Epoch: 18\n",
      "\n",
      "        Train:\n",
      "            loss=0.286\n",
      "            acc=0.89\n",
      "                    interictal, preictal\n",
      "          precision= 0.88,    0.90\n",
      "          recall=    0.90,    0.88 \n",
      "          f1=        0.89,    0.89\n",
      "\n",
      "        Test:\n",
      "            loss=0.442\n",
      "            acc=0.80\n",
      "                    interictal, preictal\n",
      "          precision= 0.84,    0.76\n",
      "          recall=    0.73,    0.86 \n",
      "          f1=        0.78,    0.81\n"
     ]
    },
    {
     "data": {
      "application/vnd.jupyter.widget-view+json": {
       "model_id": "",
       "version_major": 2,
       "version_minor": 0
      },
      "text/plain": [
       "  0%|          | 0/108 [00:00<?, ?it/s]"
      ]
     },
     "metadata": {},
     "output_type": "display_data"
    },
    {
     "data": {
      "application/vnd.jupyter.widget-view+json": {
       "model_id": "",
       "version_major": 2,
       "version_minor": 0
      },
      "text/plain": [
       "  0%|          | 0/108 [00:00<?, ?it/s]"
      ]
     },
     "metadata": {},
     "output_type": "display_data"
    },
    {
     "data": {
      "application/vnd.jupyter.widget-view+json": {
       "model_id": "",
       "version_major": 2,
       "version_minor": 0
      },
      "text/plain": [
       "  0%|          | 0/18 [00:00<?, ?it/s]"
      ]
     },
     "metadata": {},
     "output_type": "display_data"
    },
    {
     "name": "stdout",
     "output_type": "stream",
     "text": [
      "Epoch: 19\n",
      "\n",
      "        Train:\n",
      "            loss=0.286\n",
      "            acc=0.89\n",
      "                    interictal, preictal\n",
      "          precision= 0.88,    0.90\n",
      "          recall=    0.90,    0.88 \n",
      "          f1=        0.89,    0.89\n",
      "\n",
      "        Test:\n",
      "            loss=0.442\n",
      "            acc=0.80\n",
      "                    interictal, preictal\n",
      "          precision= 0.84,    0.77\n",
      "          recall=    0.74,    0.86 \n",
      "          f1=        0.79,    0.81\n"
     ]
    }
   ],
   "source": [
    "train_stats, test_stats = [init_train_stats], [init_test_stats]\n",
    "for epoch in range(num_epochs):\n",
    "    #Train\n",
    "    train_loop(train_dataloader, model, loss_fn, optimizer)\n",
    "    \n",
    "    #Evaluate\n",
    "    train_stat, _ = eval_loop(train_dataloader, model, loss_fn)\n",
    "    test_stat, _ = eval_loop(test_dataloader, model, loss_fn)\n",
    "\n",
    "    if train_stat[0] > train_stats[-1][0]:\n",
    "        scheduler.step()\n",
    "        print(\"New Learnign Rate:\", scheduler.get_last_lr()[0])\n",
    "    \n",
    "    print(\"Epoch:\", epoch)\n",
    "    print_stats(train_stat, test_stat)\n",
    "    \n",
    "    train_stats.append(train_stat)\n",
    "    test_stats.append(test_stat)"
   ]
  },
  {
   "cell_type": "code",
   "execution_count": 52,
   "id": "9f366ad3",
   "metadata": {},
   "outputs": [
    {
     "data": {
      "image/png": "[encoded data removed]",
      "text/plain": [
       "<Figure size 432x288 with 1 Axes>"
      ]
     },
     "metadata": {
      "needs_background": "light"
     },
     "output_type": "display_data"
    }
   ],
   "source": [
    "train_losses = np.array([train_stat[0] for train_stat in train_stats])\n",
    "test_losses = np.array([test_stat[0] for test_stat in test_stats])\n",
    "\n",
    "epoch_nums = np.arange(num_epochs+1)\n",
    "plt.figure()\n",
    "plt.hold = True\n",
    "plt.plot(epoch_nums, train_losses, 'o-', label=\"Train\")\n",
    "plt.plot(epoch_nums, test_losses, 'o-', label=\"Test\")\n",
    "plt.xlabel(\"Epoch\")\n",
    "plt.ylabel(\"Binary Cross Entropy Loss\")\n",
    "_ = plt.legend()"
   ]
  },
  {
   "cell_type": "code",
   "execution_count": 53,
   "id": "476db74f",
   "metadata": {},
   "outputs": [
    {
     "data": {
      "application/vnd.jupyter.widget-view+json": {
       "model_id": "",
       "version_major": 2,
       "version_minor": 0
      },
      "text/plain": [
       "  0%|          | 0/18 [00:00<?, ?it/s]"
      ]
     },
     "metadata": {},
     "output_type": "display_data"
    }
   ],
   "source": [
    "final_seg_stats, predsNlabels = eval_loop(test_dataloader, model, loss_fn, seg=True)\n",
    "y, preds, true_preds = predsNlabels"
   ]
  },
  {
   "cell_type": "code",
   "execution_count": 54,
   "id": "a2a36d69",
   "metadata": {},
   "outputs": [
    {
     "name": "stdout",
     "output_type": "stream",
     "text": [
      "\n",
      "        Segment:\n",
      "            loss=0.362\n",
      "            acc=0.94\n",
      "                    interictal, preictal\n",
      "          precision= 1.00,    0.90\n",
      "          recall=    0.89,    1.00\n",
      "          f1=        0.94,    0.95\n"
     ]
    }
   ],
   "source": [
    "print_segstats(final_seg_stats)"
   ]
  },
  {
   "cell_type": "markdown",
   "id": "9aa2f765",
   "metadata": {},
   "source": [
    "Wow, perfect performance with thresh=0.5"
   ]
  },
  {
   "cell_type": "markdown",
   "id": "a480c197",
   "metadata": {},
   "source": [
    "ROC"
   ]
  },
  {
   "cell_type": "code",
   "execution_count": 55,
   "id": "d0227e35",
   "metadata": {},
   "outputs": [
    {
     "name": "stdout",
     "output_type": "stream",
     "text": [
      "ROCAUC= 0.9753086419753085\n"
     ]
    },
    {
     "data": {
      "image/png": "[encoded data removed]",
      "text/plain": [
       "<Figure size 432x288 with 1 Axes>"
      ]
     },
     "metadata": {
      "needs_background": "light"
     },
     "output_type": "display_data"
    }
   ],
   "source": [
    "thresholds = np.linspace(0, 1, 11)\n",
    "tprs, fprs, auc = roc_eval_loop(y, true_preds, thresholds)\n",
    "print(\"ROCAUC=\", auc)\n",
    "plt.figure()\n",
    "plt.hold = True\n",
    "plt.plot(fprs, tprs, 'ko-')\n",
    "plt.plot(fprs, fprs, 'r--')\n",
    "plt.xlabel(\"False Positive Rate (1 - Specificity)\")\n",
    "plt.ylabel(\"True Positive Rate (Sensitivity, Recall)\")\n",
    "_ = plt.legend([\"Model Performance\", \"Chance Performance\"])"
   ]
  },
  {
   "cell_type": "markdown",
   "id": "889c57b3",
   "metadata": {},
   "source": [
    "## Patient 2!"
   ]
  },
  {
   "cell_type": "markdown",
   "id": "13becb12",
   "metadata": {},
   "source": [
    "Datasets and Dataloaders"
   ]
  },
  {
   "cell_type": "code",
   "execution_count": 15,
   "id": "bb8a155e",
   "metadata": {},
   "outputs": [],
   "source": [
    "batch_size = 50 // 2"
   ]
  },
  {
   "cell_type": "code",
   "execution_count": 16,
   "id": "87a96714",
   "metadata": {},
   "outputs": [],
   "source": [
    "inter_segs = [seg_name for seg_name in os.listdir(\"PreProcData/Patient_2\") if \"interictal\" in seg_name]\n",
    "pre_segs = [seg_name for seg_name in os.listdir(\"PreProcData/Patient_2\") if \"preictal\" in seg_name]\n",
    "train_segs = inter_segs[:9]+pre_segs[:9]\n",
    "test_segs = inter_segs[9:18]+pre_segs[9:]\n",
    "n_subseg = 150\n",
    "train_dataset = SeizureData(\"PreProcData\", \"Patient_2\", train_segs, n_subseg)\n",
    "train_dataloader = DataLoader(train_dataset, batch_size=batch_size, shuffle=True)\n",
    "test_dataset = SeizureData(\"PreProcData\", \"Patient_2\", test_segs, n_subseg)\n",
    "test_dataloader = DataLoader(test_dataset, batch_size=n_subseg, shuffle=False)"
   ]
  },
  {
   "cell_type": "markdown",
   "id": "3ae78c10",
   "metadata": {},
   "source": [
    "Note: $\\lambda_{norm}$ is a L2 Norm Regularization parameter from [here](https://towardsdatascience.com/weight-decay-and-its-peculiar-effects-66e0aee3e7b8) "
   ]
  },
  {
   "cell_type": "code",
   "execution_count": 17,
   "id": "6a2fa797",
   "metadata": {},
   "outputs": [],
   "source": [
    "learning_rate = 0.01 / 2\n",
    "num_epochs = 20\n",
    "epoch_nums = [epoch for epoch in range(num_epochs)]\n",
    "lambda_norm = 0.05 * 100\n",
    "weight_decay = lambda_norm*np.sqrt(batch_size/(num_epochs*len(train_dataset)))"
   ]
  },
  {
   "cell_type": "code",
   "execution_count": 18,
   "id": "63235a29",
   "metadata": {},
   "outputs": [
    {
     "name": "stdout",
     "output_type": "stream",
     "text": [
      "0.10758287072798381\n"
     ]
    }
   ],
   "source": [
    "print(weight_decay)"
   ]
  },
  {
   "cell_type": "markdown",
   "id": "e508b5af",
   "metadata": {},
   "source": [
    "Initialize"
   ]
  },
  {
   "cell_type": "code",
   "execution_count": 19,
   "id": "9bebbea7",
   "metadata": {
    "scrolled": true
   },
   "outputs": [
    {
     "data": {
      "image/png": "[encoded data removed]",
      "text/plain": [
       "<Figure size 432x288 with 2 Axes>"
      ]
     },
     "metadata": {
      "needs_background": "light"
     },
     "output_type": "display_data"
    },
    {
     "name": "stdout",
     "output_type": "stream",
     "text": [
      "y=1.0, pred=0.3230171799659729\n"
     ]
    },
    {
     "data": {
      "application/vnd.jupyter.widget-view+json": {
       "model_id": "",
       "version_major": 2,
       "version_minor": 0
      },
      "text/plain": [
       "  0%|          | 0/108 [00:00<?, ?it/s]"
      ]
     },
     "metadata": {},
     "output_type": "display_data"
    },
    {
     "data": {
      "application/vnd.jupyter.widget-view+json": {
       "model_id": "",
       "version_major": 2,
       "version_minor": 0
      },
      "text/plain": [
       "  0%|          | 0/18 [00:00<?, ?it/s]"
      ]
     },
     "metadata": {},
     "output_type": "display_data"
    },
    {
     "data": {
      "application/vnd.jupyter.widget-view+json": {
       "model_id": "",
       "version_major": 2,
       "version_minor": 0
      },
      "text/plain": [
       "  0%|          | 0/18 [00:00<?, ?it/s]"
      ]
     },
     "metadata": {},
     "output_type": "display_data"
    },
    {
     "name": "stdout",
     "output_type": "stream",
     "text": [
      "\n",
      "        Train:\n",
      "            loss=0.730\n",
      "            acc=0.50\n",
      "                    interictal, preictal\n",
      "          precision= 0.50,    0.48\n",
      "          recall=    0.94,    0.05 \n",
      "          f1=        0.65,    0.10\n",
      "\n",
      "        Test:\n",
      "            loss=0.728\n",
      "            acc=0.50\n",
      "                    interictal, preictal\n",
      "          precision= 0.50,    0.53\n",
      "          recall=    0.95,    0.06 \n",
      "          f1=        0.66,    0.11\n",
      "\n",
      "        Segment:\n",
      "            loss=0.713\n",
      "            acc=0.50\n",
      "                    interictal, preictal\n",
      "          precision= 0.50,    0.00\n",
      "          recall=    1.00,    0.00\n",
      "          f1=        0.67,    0.00\n"
     ]
    },
    {
     "name": "stderr",
     "output_type": "stream",
     "text": [
      "/opt/anaconda3/lib/python3.8/site-packages/sklearn/metrics/_classification.py:1318: UndefinedMetricWarning: Precision and F-score are ill-defined and being set to 0.0 in labels with no predicted samples. Use `zero_division` parameter to control this behavior.\n",
      "  _warn_prf(average, modifier, msg_start, len(result))\n"
     ]
    }
   ],
   "source": [
    "torch.random.manual_seed(1)\n",
    "model = PredIctal(num_channels=48).float()\n",
    "optimizer = torch.optim.Adam(model.parameters(), lr=learning_rate, weight_decay=weight_decay)\n",
    "scheduler = torch.optim.lr_scheduler.StepLR(optimizer, step_size=1, gamma=0.5)\n",
    "loss_fn = nn.BCELoss()\n",
    "model.apply(weights_init)\n",
    "idx, ch_idx, freq_idx = 0,0,0\n",
    "plot_init(train_dataloader, model, idx, ch_idx, freq_idx, num_channels=24)\n",
    "init_train_stats, _ = eval_loop(train_dataloader, model, loss_fn)\n",
    "init_test_stats, _ = eval_loop(test_dataloader, model, loss_fn)\n",
    "init_seg_stats, _ = eval_loop(test_dataloader, model, loss_fn, seg=True)\n",
    "print_stats(init_train_stats, init_test_stats)\n",
    "print_segstats(init_seg_stats)"
   ]
  },
  {
   "cell_type": "markdown",
   "id": "336794eb",
   "metadata": {},
   "source": [
    "Train"
   ]
  },
  {
   "cell_type": "code",
   "execution_count": 20,
   "id": "02846a20",
   "metadata": {},
   "outputs": [
    {
     "data": {
      "application/vnd.jupyter.widget-view+json": {
       "model_id": "",
       "version_major": 2,
       "version_minor": 0
      },
      "text/plain": [
       "  0%|          | 0/108 [00:00<?, ?it/s]"
      ]
     },
     "metadata": {},
     "output_type": "display_data"
    },
    {
     "data": {
      "application/vnd.jupyter.widget-view+json": {
       "model_id": "",
       "version_major": 2,
       "version_minor": 0
      },
      "text/plain": [
       "  0%|          | 0/108 [00:00<?, ?it/s]"
      ]
     },
     "metadata": {},
     "output_type": "display_data"
    },
    {
     "data": {
      "application/vnd.jupyter.widget-view+json": {
       "model_id": "",
       "version_major": 2,
       "version_minor": 0
      },
      "text/plain": [
       "  0%|          | 0/18 [00:00<?, ?it/s]"
      ]
     },
     "metadata": {},
     "output_type": "display_data"
    },
    {
     "name": "stdout",
     "output_type": "stream",
     "text": [
      "Epoch: 0\n",
      "\n",
      "        Train:\n",
      "            loss=0.704\n",
      "            acc=0.55\n",
      "                    interictal, preictal\n",
      "          precision= 0.54,    0.58\n",
      "          recall=    0.73,    0.38 \n",
      "          f1=        0.62,    0.46\n",
      "\n",
      "        Test:\n",
      "            loss=0.696\n",
      "            acc=0.56\n",
      "                    interictal, preictal\n",
      "          precision= 0.55,    0.58\n",
      "          recall=    0.68,    0.44 \n",
      "          f1=        0.61,    0.50\n"
     ]
    },
    {
     "data": {
      "application/vnd.jupyter.widget-view+json": {
       "model_id": "",
       "version_major": 2,
       "version_minor": 0
      },
      "text/plain": [
       "  0%|          | 0/108 [00:00<?, ?it/s]"
      ]
     },
     "metadata": {},
     "output_type": "display_data"
    },
    {
     "data": {
      "application/vnd.jupyter.widget-view+json": {
       "model_id": "",
       "version_major": 2,
       "version_minor": 0
      },
      "text/plain": [
       "  0%|          | 0/108 [00:00<?, ?it/s]"
      ]
     },
     "metadata": {},
     "output_type": "display_data"
    },
    {
     "data": {
      "application/vnd.jupyter.widget-view+json": {
       "model_id": "",
       "version_major": 2,
       "version_minor": 0
      },
      "text/plain": [
       "  0%|          | 0/18 [00:00<?, ?it/s]"
      ]
     },
     "metadata": {},
     "output_type": "display_data"
    },
    {
     "name": "stdout",
     "output_type": "stream",
     "text": [
      "New Learnign Rate: 0.0025\n",
      "Epoch: 1\n",
      "\n",
      "        Train:\n",
      "            loss=0.735\n",
      "            acc=0.55\n",
      "                    interictal, preictal\n",
      "          precision= 0.55,    0.55\n",
      "          recall=    0.56,    0.54 \n",
      "          f1=        0.55,    0.54\n",
      "\n",
      "        Test:\n",
      "            loss=0.714\n",
      "            acc=0.56\n",
      "                    interictal, preictal\n",
      "          precision= 0.56,    0.56\n",
      "          recall=    0.55,    0.57 \n",
      "          f1=        0.56,    0.56\n"
     ]
    },
    {
     "data": {
      "application/vnd.jupyter.widget-view+json": {
       "model_id": "",
       "version_major": 2,
       "version_minor": 0
      },
      "text/plain": [
       "  0%|          | 0/108 [00:00<?, ?it/s]"
      ]
     },
     "metadata": {},
     "output_type": "display_data"
    },
    {
     "data": {
      "application/vnd.jupyter.widget-view+json": {
       "model_id": "",
       "version_major": 2,
       "version_minor": 0
      },
      "text/plain": [
       "  0%|          | 0/108 [00:00<?, ?it/s]"
      ]
     },
     "metadata": {},
     "output_type": "display_data"
    },
    {
     "data": {
      "application/vnd.jupyter.widget-view+json": {
       "model_id": "",
       "version_major": 2,
       "version_minor": 0
      },
      "text/plain": [
       "  0%|          | 0/18 [00:00<?, ?it/s]"
      ]
     },
     "metadata": {},
     "output_type": "display_data"
    },
    {
     "name": "stdout",
     "output_type": "stream",
     "text": [
      "Epoch: 2\n",
      "\n",
      "        Train:\n",
      "            loss=0.650\n",
      "            acc=0.63\n",
      "                    interictal, preictal\n",
      "          precision= 0.60,    0.72\n",
      "          recall=    0.83,    0.44 \n",
      "          f1=        0.69,    0.54\n",
      "\n",
      "        Test:\n",
      "            loss=0.666\n",
      "            acc=0.62\n",
      "                    interictal, preictal\n",
      "          precision= 0.59,    0.66\n",
      "          recall=    0.76,    0.47 \n",
      "          f1=        0.67,    0.55\n"
     ]
    },
    {
     "data": {
      "application/vnd.jupyter.widget-view+json": {
       "model_id": "",
       "version_major": 2,
       "version_minor": 0
      },
      "text/plain": [
       "  0%|          | 0/108 [00:00<?, ?it/s]"
      ]
     },
     "metadata": {},
     "output_type": "display_data"
    },
    {
     "data": {
      "application/vnd.jupyter.widget-view+json": {
       "model_id": "",
       "version_major": 2,
       "version_minor": 0
      },
      "text/plain": [
       "  0%|          | 0/108 [00:00<?, ?it/s]"
      ]
     },
     "metadata": {},
     "output_type": "display_data"
    },
    {
     "data": {
      "application/vnd.jupyter.widget-view+json": {
       "model_id": "",
       "version_major": 2,
       "version_minor": 0
      },
      "text/plain": [
       "  0%|          | 0/18 [00:00<?, ?it/s]"
      ]
     },
     "metadata": {},
     "output_type": "display_data"
    },
    {
     "name": "stdout",
     "output_type": "stream",
     "text": [
      "Epoch: 3\n",
      "\n",
      "        Train:\n",
      "            loss=0.626\n",
      "            acc=0.65\n",
      "                    interictal, preictal\n",
      "          precision= 0.69,    0.62\n",
      "          recall=    0.54,    0.75 \n",
      "          f1=        0.60,    0.68\n",
      "\n",
      "        Test:\n",
      "            loss=0.637\n",
      "            acc=0.65\n",
      "                    interictal, preictal\n",
      "          precision= 0.74,    0.61\n",
      "          recall=    0.46,    0.84 \n",
      "          f1=        0.57,    0.71\n"
     ]
    },
    {
     "data": {
      "application/vnd.jupyter.widget-view+json": {
       "model_id": "",
       "version_major": 2,
       "version_minor": 0
      },
      "text/plain": [
       "  0%|          | 0/108 [00:00<?, ?it/s]"
      ]
     },
     "metadata": {},
     "output_type": "display_data"
    },
    {
     "data": {
      "application/vnd.jupyter.widget-view+json": {
       "model_id": "",
       "version_major": 2,
       "version_minor": 0
      },
      "text/plain": [
       "  0%|          | 0/108 [00:00<?, ?it/s]"
      ]
     },
     "metadata": {},
     "output_type": "display_data"
    },
    {
     "data": {
      "application/vnd.jupyter.widget-view+json": {
       "model_id": "",
       "version_major": 2,
       "version_minor": 0
      },
      "text/plain": [
       "  0%|          | 0/18 [00:00<?, ?it/s]"
      ]
     },
     "metadata": {},
     "output_type": "display_data"
    },
    {
     "name": "stdout",
     "output_type": "stream",
     "text": [
      "Epoch: 4\n",
      "\n",
      "        Train:\n",
      "            loss=0.585\n",
      "            acc=0.70\n",
      "                    interictal, preictal\n",
      "          precision= 0.67,    0.74\n",
      "          recall=    0.79,    0.62 \n",
      "          f1=        0.73,    0.68\n",
      "\n",
      "        Test:\n",
      "            loss=0.581\n",
      "            acc=0.70\n",
      "                    interictal, preictal\n",
      "          precision= 0.69,    0.70\n",
      "          recall=    0.71,    0.68 \n",
      "          f1=        0.70,    0.69\n"
     ]
    },
    {
     "data": {
      "application/vnd.jupyter.widget-view+json": {
       "model_id": "",
       "version_major": 2,
       "version_minor": 0
      },
      "text/plain": [
       "  0%|          | 0/108 [00:00<?, ?it/s]"
      ]
     },
     "metadata": {},
     "output_type": "display_data"
    },
    {
     "data": {
      "application/vnd.jupyter.widget-view+json": {
       "model_id": "",
       "version_major": 2,
       "version_minor": 0
      },
      "text/plain": [
       "  0%|          | 0/108 [00:00<?, ?it/s]"
      ]
     },
     "metadata": {},
     "output_type": "display_data"
    },
    {
     "data": {
      "application/vnd.jupyter.widget-view+json": {
       "model_id": "",
       "version_major": 2,
       "version_minor": 0
      },
      "text/plain": [
       "  0%|          | 0/18 [00:00<?, ?it/s]"
      ]
     },
     "metadata": {},
     "output_type": "display_data"
    },
    {
     "name": "stdout",
     "output_type": "stream",
     "text": [
      "New Learnign Rate: 0.00125\n",
      "Epoch: 5\n",
      "\n",
      "        Train:\n",
      "            loss=0.630\n",
      "            acc=0.63\n",
      "                    interictal, preictal\n",
      "          precision= 0.72,    0.60\n",
      "          recall=    0.44,    0.83 \n",
      "          f1=        0.54,    0.70\n",
      "\n",
      "        Test:\n",
      "            loss=0.638\n",
      "            acc=0.64\n",
      "                    interictal, preictal\n",
      "          precision= 0.76,    0.60\n",
      "          recall=    0.42,    0.87 \n",
      "          f1=        0.54,    0.71\n"
     ]
    },
    {
     "data": {
      "application/vnd.jupyter.widget-view+json": {
       "model_id": "",
       "version_major": 2,
       "version_minor": 0
      },
      "text/plain": [
       "  0%|          | 0/108 [00:00<?, ?it/s]"
      ]
     },
     "metadata": {},
     "output_type": "display_data"
    },
    {
     "data": {
      "application/vnd.jupyter.widget-view+json": {
       "model_id": "",
       "version_major": 2,
       "version_minor": 0
      },
      "text/plain": [
       "  0%|          | 0/108 [00:00<?, ?it/s]"
      ]
     },
     "metadata": {},
     "output_type": "display_data"
    },
    {
     "data": {
      "application/vnd.jupyter.widget-view+json": {
       "model_id": "",
       "version_major": 2,
       "version_minor": 0
      },
      "text/plain": [
       "  0%|          | 0/18 [00:00<?, ?it/s]"
      ]
     },
     "metadata": {},
     "output_type": "display_data"
    },
    {
     "name": "stdout",
     "output_type": "stream",
     "text": [
      "Epoch: 6\n",
      "\n",
      "        Train:\n",
      "            loss=0.547\n",
      "            acc=0.72\n",
      "                    interictal, preictal\n",
      "          precision= 0.81,    0.67\n",
      "          recall=    0.59,    0.86 \n",
      "          f1=        0.68,    0.76\n",
      "\n",
      "        Test:\n",
      "            loss=0.613\n",
      "            acc=0.68\n",
      "                    interictal, preictal\n",
      "          precision= 0.77,    0.63\n",
      "          recall=    0.51,    0.85 \n",
      "          f1=        0.61,    0.72\n"
     ]
    },
    {
     "data": {
      "application/vnd.jupyter.widget-view+json": {
       "model_id": "",
       "version_major": 2,
       "version_minor": 0
      },
      "text/plain": [
       "  0%|          | 0/108 [00:00<?, ?it/s]"
      ]
     },
     "metadata": {},
     "output_type": "display_data"
    },
    {
     "data": {
      "application/vnd.jupyter.widget-view+json": {
       "model_id": "",
       "version_major": 2,
       "version_minor": 0
      },
      "text/plain": [
       "  0%|          | 0/108 [00:00<?, ?it/s]"
      ]
     },
     "metadata": {},
     "output_type": "display_data"
    },
    {
     "data": {
      "application/vnd.jupyter.widget-view+json": {
       "model_id": "",
       "version_major": 2,
       "version_minor": 0
      },
      "text/plain": [
       "  0%|          | 0/18 [00:00<?, ?it/s]"
      ]
     },
     "metadata": {},
     "output_type": "display_data"
    },
    {
     "name": "stdout",
     "output_type": "stream",
     "text": [
      "Epoch: 7\n",
      "\n",
      "        Train:\n",
      "            loss=0.520\n",
      "            acc=0.78\n",
      "                    interictal, preictal\n",
      "          precision= 0.76,    0.79\n",
      "          recall=    0.80,    0.75 \n",
      "          f1=        0.78,    0.77\n",
      "\n",
      "        Test:\n",
      "            loss=0.593\n",
      "            acc=0.70\n",
      "                    interictal, preictal\n",
      "          precision= 0.71,    0.70\n",
      "          recall=    0.69,    0.72 \n",
      "          f1=        0.70,    0.71\n"
     ]
    },
    {
     "data": {
      "application/vnd.jupyter.widget-view+json": {
       "model_id": "",
       "version_major": 2,
       "version_minor": 0
      },
      "text/plain": [
       "  0%|          | 0/108 [00:00<?, ?it/s]"
      ]
     },
     "metadata": {},
     "output_type": "display_data"
    },
    {
     "data": {
      "application/vnd.jupyter.widget-view+json": {
       "model_id": "",
       "version_major": 2,
       "version_minor": 0
      },
      "text/plain": [
       "  0%|          | 0/108 [00:00<?, ?it/s]"
      ]
     },
     "metadata": {},
     "output_type": "display_data"
    },
    {
     "data": {
      "application/vnd.jupyter.widget-view+json": {
       "model_id": "",
       "version_major": 2,
       "version_minor": 0
      },
      "text/plain": [
       "  0%|          | 0/18 [00:00<?, ?it/s]"
      ]
     },
     "metadata": {},
     "output_type": "display_data"
    },
    {
     "name": "stdout",
     "output_type": "stream",
     "text": [
      "New Learnign Rate: 0.000625\n",
      "Epoch: 8\n",
      "\n",
      "        Train:\n",
      "            loss=0.555\n",
      "            acc=0.71\n",
      "                    interictal, preictal\n",
      "          precision= 0.65,    0.87\n",
      "          recall=    0.92,    0.51 \n",
      "          f1=        0.76,    0.64\n",
      "\n",
      "        Test:\n",
      "            loss=0.604\n",
      "            acc=0.71\n",
      "                    interictal, preictal\n",
      "          precision= 0.67,    0.78\n",
      "          recall=    0.84,    0.58 \n",
      "          f1=        0.74,    0.67\n"
     ]
    },
    {
     "data": {
      "application/vnd.jupyter.widget-view+json": {
       "model_id": "",
       "version_major": 2,
       "version_minor": 0
      },
      "text/plain": [
       "  0%|          | 0/108 [00:00<?, ?it/s]"
      ]
     },
     "metadata": {},
     "output_type": "display_data"
    },
    {
     "data": {
      "application/vnd.jupyter.widget-view+json": {
       "model_id": "",
       "version_major": 2,
       "version_minor": 0
      },
      "text/plain": [
       "  0%|          | 0/108 [00:00<?, ?it/s]"
      ]
     },
     "metadata": {},
     "output_type": "display_data"
    },
    {
     "data": {
      "application/vnd.jupyter.widget-view+json": {
       "model_id": "",
       "version_major": 2,
       "version_minor": 0
      },
      "text/plain": [
       "  0%|          | 0/18 [00:00<?, ?it/s]"
      ]
     },
     "metadata": {},
     "output_type": "display_data"
    },
    {
     "name": "stdout",
     "output_type": "stream",
     "text": [
      "Epoch: 9\n",
      "\n",
      "        Train:\n",
      "            loss=0.489\n",
      "            acc=0.77\n",
      "                    interictal, preictal\n",
      "          precision= 0.86,    0.72\n",
      "          recall=    0.65,    0.89 \n",
      "          f1=        0.74,    0.80\n",
      "\n",
      "        Test:\n",
      "            loss=0.596\n",
      "            acc=0.69\n",
      "                    interictal, preictal\n",
      "          precision= 0.78,    0.65\n",
      "          recall=    0.54,    0.84 \n",
      "          f1=        0.64,    0.73\n"
     ]
    },
    {
     "data": {
      "application/vnd.jupyter.widget-view+json": {
       "model_id": "",
       "version_major": 2,
       "version_minor": 0
      },
      "text/plain": [
       "  0%|          | 0/108 [00:00<?, ?it/s]"
      ]
     },
     "metadata": {},
     "output_type": "display_data"
    },
    {
     "data": {
      "application/vnd.jupyter.widget-view+json": {
       "model_id": "",
       "version_major": 2,
       "version_minor": 0
      },
      "text/plain": [
       "  0%|          | 0/108 [00:00<?, ?it/s]"
      ]
     },
     "metadata": {},
     "output_type": "display_data"
    },
    {
     "data": {
      "application/vnd.jupyter.widget-view+json": {
       "model_id": "",
       "version_major": 2,
       "version_minor": 0
      },
      "text/plain": [
       "  0%|          | 0/18 [00:00<?, ?it/s]"
      ]
     },
     "metadata": {},
     "output_type": "display_data"
    },
    {
     "name": "stdout",
     "output_type": "stream",
     "text": [
      "New Learnign Rate: 0.0003125\n",
      "Epoch: 10\n",
      "\n",
      "        Train:\n",
      "            loss=0.591\n",
      "            acc=0.68\n",
      "                    interictal, preictal\n",
      "          precision= 0.92,    0.62\n",
      "          recall=    0.40,    0.97 \n",
      "          f1=        0.56,    0.75\n",
      "\n",
      "        Test:\n",
      "            loss=0.719\n",
      "            acc=0.61\n",
      "                    interictal, preictal\n",
      "          precision= 0.81,    0.57\n",
      "          recall=    0.29,    0.93 \n",
      "          f1=        0.43,    0.71\n"
     ]
    },
    {
     "data": {
      "application/vnd.jupyter.widget-view+json": {
       "model_id": "",
       "version_major": 2,
       "version_minor": 0
      },
      "text/plain": [
       "  0%|          | 0/108 [00:00<?, ?it/s]"
      ]
     },
     "metadata": {},
     "output_type": "display_data"
    },
    {
     "data": {
      "application/vnd.jupyter.widget-view+json": {
       "model_id": "",
       "version_major": 2,
       "version_minor": 0
      },
      "text/plain": [
       "  0%|          | 0/108 [00:00<?, ?it/s]"
      ]
     },
     "metadata": {},
     "output_type": "display_data"
    },
    {
     "data": {
      "application/vnd.jupyter.widget-view+json": {
       "model_id": "",
       "version_major": 2,
       "version_minor": 0
      },
      "text/plain": [
       "  0%|          | 0/18 [00:00<?, ?it/s]"
      ]
     },
     "metadata": {},
     "output_type": "display_data"
    },
    {
     "name": "stdout",
     "output_type": "stream",
     "text": [
      "Epoch: 11\n",
      "\n",
      "        Train:\n",
      "            loss=0.451\n",
      "            acc=0.81\n",
      "                    interictal, preictal\n",
      "          precision= 0.82,    0.79\n",
      "          recall=    0.79,    0.83 \n",
      "          f1=        0.80,    0.81\n",
      "\n",
      "        Test:\n",
      "            loss=0.567\n",
      "            acc=0.71\n",
      "                    interictal, preictal\n",
      "          precision= 0.74,    0.69\n",
      "          recall=    0.65,    0.78 \n",
      "          f1=        0.69,    0.73\n"
     ]
    },
    {
     "data": {
      "application/vnd.jupyter.widget-view+json": {
       "model_id": "",
       "version_major": 2,
       "version_minor": 0
      },
      "text/plain": [
       "  0%|          | 0/108 [00:00<?, ?it/s]"
      ]
     },
     "metadata": {},
     "output_type": "display_data"
    },
    {
     "data": {
      "application/vnd.jupyter.widget-view+json": {
       "model_id": "",
       "version_major": 2,
       "version_minor": 0
      },
      "text/plain": [
       "  0%|          | 0/108 [00:00<?, ?it/s]"
      ]
     },
     "metadata": {},
     "output_type": "display_data"
    },
    {
     "data": {
      "application/vnd.jupyter.widget-view+json": {
       "model_id": "",
       "version_major": 2,
       "version_minor": 0
      },
      "text/plain": [
       "  0%|          | 0/18 [00:00<?, ?it/s]"
      ]
     },
     "metadata": {},
     "output_type": "display_data"
    },
    {
     "name": "stdout",
     "output_type": "stream",
     "text": [
      "New Learnign Rate: 0.00015625\n",
      "Epoch: 12\n",
      "\n",
      "        Train:\n",
      "            loss=0.486\n",
      "            acc=0.77\n",
      "                    interictal, preictal\n",
      "          precision= 0.92,    0.69\n",
      "          recall=    0.58,    0.95 \n",
      "          f1=        0.71,    0.80\n",
      "\n",
      "        Test:\n",
      "            loss=0.633\n",
      "            acc=0.65\n",
      "                    interictal, preictal\n",
      "          precision= 0.79,    0.61\n",
      "          recall=    0.42,    0.89 \n",
      "          f1=        0.55,    0.72\n"
     ]
    },
    {
     "data": {
      "application/vnd.jupyter.widget-view+json": {
       "model_id": "",
       "version_major": 2,
       "version_minor": 0
      },
      "text/plain": [
       "  0%|          | 0/108 [00:00<?, ?it/s]"
      ]
     },
     "metadata": {},
     "output_type": "display_data"
    },
    {
     "data": {
      "application/vnd.jupyter.widget-view+json": {
       "model_id": "",
       "version_major": 2,
       "version_minor": 0
      },
      "text/plain": [
       "  0%|          | 0/108 [00:00<?, ?it/s]"
      ]
     },
     "metadata": {},
     "output_type": "display_data"
    },
    {
     "data": {
      "application/vnd.jupyter.widget-view+json": {
       "model_id": "",
       "version_major": 2,
       "version_minor": 0
      },
      "text/plain": [
       "  0%|          | 0/18 [00:00<?, ?it/s]"
      ]
     },
     "metadata": {},
     "output_type": "display_data"
    },
    {
     "name": "stdout",
     "output_type": "stream",
     "text": [
      "Epoch: 13\n",
      "\n",
      "        Train:\n",
      "            loss=0.448\n",
      "            acc=0.79\n",
      "                    interictal, preictal\n",
      "          precision= 0.74,    0.87\n",
      "          recall=    0.90,    0.68 \n",
      "          f1=        0.81,    0.77\n",
      "\n",
      "        Test:\n",
      "            loss=0.573\n",
      "            acc=0.72\n",
      "                    interictal, preictal\n",
      "          precision= 0.69,    0.75\n",
      "          recall=    0.79,    0.65 \n",
      "          f1=        0.74,    0.70\n"
     ]
    },
    {
     "data": {
      "application/vnd.jupyter.widget-view+json": {
       "model_id": "",
       "version_major": 2,
       "version_minor": 0
      },
      "text/plain": [
       "  0%|          | 0/108 [00:00<?, ?it/s]"
      ]
     },
     "metadata": {},
     "output_type": "display_data"
    },
    {
     "data": {
      "application/vnd.jupyter.widget-view+json": {
       "model_id": "",
       "version_major": 2,
       "version_minor": 0
      },
      "text/plain": [
       "  0%|          | 0/108 [00:00<?, ?it/s]"
      ]
     },
     "metadata": {},
     "output_type": "display_data"
    },
    {
     "data": {
      "application/vnd.jupyter.widget-view+json": {
       "model_id": "",
       "version_major": 2,
       "version_minor": 0
      },
      "text/plain": [
       "  0%|          | 0/18 [00:00<?, ?it/s]"
      ]
     },
     "metadata": {},
     "output_type": "display_data"
    },
    {
     "name": "stdout",
     "output_type": "stream",
     "text": [
      "Epoch: 14\n",
      "\n",
      "        Train:\n",
      "            loss=0.423\n",
      "            acc=0.83\n",
      "                    interictal, preictal\n",
      "          precision= 0.85,    0.81\n",
      "          recall=    0.80,    0.85 \n",
      "          f1=        0.82,    0.83\n",
      "\n",
      "        Test:\n",
      "            loss=0.569\n",
      "            acc=0.71\n",
      "                    interictal, preictal\n",
      "          precision= 0.75,    0.69\n",
      "          recall=    0.64,    0.78 \n",
      "          f1=        0.69,    0.73\n"
     ]
    },
    {
     "data": {
      "application/vnd.jupyter.widget-view+json": {
       "model_id": "",
       "version_major": 2,
       "version_minor": 0
      },
      "text/plain": [
       "  0%|          | 0/108 [00:00<?, ?it/s]"
      ]
     },
     "metadata": {},
     "output_type": "display_data"
    },
    {
     "data": {
      "application/vnd.jupyter.widget-view+json": {
       "model_id": "",
       "version_major": 2,
       "version_minor": 0
      },
      "text/plain": [
       "  0%|          | 0/108 [00:00<?, ?it/s]"
      ]
     },
     "metadata": {},
     "output_type": "display_data"
    },
    {
     "data": {
      "application/vnd.jupyter.widget-view+json": {
       "model_id": "",
       "version_major": 2,
       "version_minor": 0
      },
      "text/plain": [
       "  0%|          | 0/18 [00:00<?, ?it/s]"
      ]
     },
     "metadata": {},
     "output_type": "display_data"
    },
    {
     "name": "stdout",
     "output_type": "stream",
     "text": [
      "Epoch: 15\n",
      "\n",
      "        Train:\n",
      "            loss=0.415\n",
      "            acc=0.83\n",
      "                    interictal, preictal\n",
      "          precision= 0.83,    0.83\n",
      "          recall=    0.83,    0.83 \n",
      "          f1=        0.83,    0.83\n",
      "\n",
      "        Test:\n",
      "            loss=0.566\n",
      "            acc=0.72\n",
      "                    interictal, preictal\n",
      "          precision= 0.73,    0.70\n",
      "          recall=    0.68,    0.75 \n",
      "          f1=        0.70,    0.73\n"
     ]
    },
    {
     "data": {
      "application/vnd.jupyter.widget-view+json": {
       "model_id": "",
       "version_major": 2,
       "version_minor": 0
      },
      "text/plain": [
       "  0%|          | 0/108 [00:00<?, ?it/s]"
      ]
     },
     "metadata": {},
     "output_type": "display_data"
    },
    {
     "data": {
      "application/vnd.jupyter.widget-view+json": {
       "model_id": "",
       "version_major": 2,
       "version_minor": 0
      },
      "text/plain": [
       "  0%|          | 0/108 [00:00<?, ?it/s]"
      ]
     },
     "metadata": {},
     "output_type": "display_data"
    },
    {
     "data": {
      "application/vnd.jupyter.widget-view+json": {
       "model_id": "",
       "version_major": 2,
       "version_minor": 0
      },
      "text/plain": [
       "  0%|          | 0/18 [00:00<?, ?it/s]"
      ]
     },
     "metadata": {},
     "output_type": "display_data"
    },
    {
     "name": "stdout",
     "output_type": "stream",
     "text": [
      "New Learnign Rate: 7.8125e-05\n",
      "Epoch: 16\n",
      "\n",
      "        Train:\n",
      "            loss=0.422\n",
      "            acc=0.81\n",
      "                    interictal, preictal\n",
      "          precision= 0.77,    0.86\n",
      "          recall=    0.88,    0.74 \n",
      "          f1=        0.82,    0.80\n",
      "\n",
      "        Test:\n",
      "            loss=0.581\n",
      "            acc=0.71\n",
      "                    interictal, preictal\n",
      "          precision= 0.69,    0.73\n",
      "          recall=    0.76,    0.66 \n",
      "          f1=        0.72,    0.70\n"
     ]
    },
    {
     "data": {
      "application/vnd.jupyter.widget-view+json": {
       "model_id": "",
       "version_major": 2,
       "version_minor": 0
      },
      "text/plain": [
       "  0%|          | 0/108 [00:00<?, ?it/s]"
      ]
     },
     "metadata": {},
     "output_type": "display_data"
    },
    {
     "data": {
      "application/vnd.jupyter.widget-view+json": {
       "model_id": "",
       "version_major": 2,
       "version_minor": 0
      },
      "text/plain": [
       "  0%|          | 0/108 [00:00<?, ?it/s]"
      ]
     },
     "metadata": {},
     "output_type": "display_data"
    },
    {
     "data": {
      "application/vnd.jupyter.widget-view+json": {
       "model_id": "",
       "version_major": 2,
       "version_minor": 0
      },
      "text/plain": [
       "  0%|          | 0/18 [00:00<?, ?it/s]"
      ]
     },
     "metadata": {},
     "output_type": "display_data"
    },
    {
     "name": "stdout",
     "output_type": "stream",
     "text": [
      "Epoch: 17\n",
      "\n",
      "        Train:\n",
      "            loss=0.407\n",
      "            acc=0.84\n",
      "                    interictal, preictal\n",
      "          precision= 0.85,    0.83\n",
      "          recall=    0.82,    0.85 \n",
      "          f1=        0.84,    0.84\n",
      "\n",
      "        Test:\n",
      "            loss=0.573\n",
      "            acc=0.71\n",
      "                    interictal, preictal\n",
      "          precision= 0.73,    0.69\n",
      "          recall=    0.66,    0.76 \n",
      "          f1=        0.69,    0.72\n"
     ]
    },
    {
     "data": {
      "application/vnd.jupyter.widget-view+json": {
       "model_id": "",
       "version_major": 2,
       "version_minor": 0
      },
      "text/plain": [
       "  0%|          | 0/108 [00:00<?, ?it/s]"
      ]
     },
     "metadata": {},
     "output_type": "display_data"
    },
    {
     "data": {
      "application/vnd.jupyter.widget-view+json": {
       "model_id": "",
       "version_major": 2,
       "version_minor": 0
      },
      "text/plain": [
       "  0%|          | 0/108 [00:00<?, ?it/s]"
      ]
     },
     "metadata": {},
     "output_type": "display_data"
    },
    {
     "data": {
      "application/vnd.jupyter.widget-view+json": {
       "model_id": "",
       "version_major": 2,
       "version_minor": 0
      },
      "text/plain": [
       "  0%|          | 0/18 [00:00<?, ?it/s]"
      ]
     },
     "metadata": {},
     "output_type": "display_data"
    },
    {
     "name": "stdout",
     "output_type": "stream",
     "text": [
      "Epoch: 18\n",
      "\n",
      "        Train:\n",
      "            loss=0.402\n",
      "            acc=0.84\n",
      "                    interictal, preictal\n",
      "          precision= 0.84,    0.84\n",
      "          recall=    0.84,    0.84 \n",
      "          f1=        0.84,    0.84\n",
      "\n",
      "        Test:\n",
      "            loss=0.572\n",
      "            acc=0.71\n",
      "                    interictal, preictal\n",
      "          precision= 0.73,    0.70\n",
      "          recall=    0.68,    0.75 \n",
      "          f1=        0.70,    0.72\n"
     ]
    },
    {
     "data": {
      "application/vnd.jupyter.widget-view+json": {
       "model_id": "",
       "version_major": 2,
       "version_minor": 0
      },
      "text/plain": [
       "  0%|          | 0/108 [00:00<?, ?it/s]"
      ]
     },
     "metadata": {},
     "output_type": "display_data"
    },
    {
     "data": {
      "application/vnd.jupyter.widget-view+json": {
       "model_id": "",
       "version_major": 2,
       "version_minor": 0
      },
      "text/plain": [
       "  0%|          | 0/108 [00:00<?, ?it/s]"
      ]
     },
     "metadata": {},
     "output_type": "display_data"
    },
    {
     "data": {
      "application/vnd.jupyter.widget-view+json": {
       "model_id": "",
       "version_major": 2,
       "version_minor": 0
      },
      "text/plain": [
       "  0%|          | 0/18 [00:00<?, ?it/s]"
      ]
     },
     "metadata": {},
     "output_type": "display_data"
    },
    {
     "name": "stdout",
     "output_type": "stream",
     "text": [
      "Epoch: 19\n",
      "\n",
      "        Train:\n",
      "            loss=0.400\n",
      "            acc=0.84\n",
      "                    interictal, preictal\n",
      "          precision= 0.83,    0.85\n",
      "          recall=    0.85,    0.83 \n",
      "          f1=        0.84,    0.84\n",
      "\n",
      "        Test:\n",
      "            loss=0.569\n",
      "            acc=0.71\n",
      "                    interictal, preictal\n",
      "          precision= 0.72,    0.71\n",
      "          recall=    0.70,    0.73 \n",
      "          f1=        0.71,    0.72\n"
     ]
    }
   ],
   "source": [
    "train_stats, test_stats, seg_stats = [init_train_stats], [init_test_stats], [init_seg_stats]\n",
    "for epoch in range(num_epochs):\n",
    "    #Train\n",
    "    train_loop(train_dataloader, model, loss_fn, optimizer)\n",
    "    \n",
    "    #Evaluate\n",
    "    train_stat, _ = eval_loop(train_dataloader, model, loss_fn)\n",
    "    test_stat, _ = eval_loop(test_dataloader, model, loss_fn)\n",
    "    #seg_stat = seg_eval_loop(test_dataloader, model)\n",
    "\n",
    "    if train_stat[0] > train_stats[-1][0]:\n",
    "        scheduler.step()\n",
    "        print(\"New Learnign Rate:\", scheduler.get_last_lr()[0])\n",
    "    \n",
    "    print(\"Epoch:\", epoch)\n",
    "    print_stats(train_stat, test_stat)\n",
    "    \n",
    "    train_stats.append(train_stat)\n",
    "    test_stats.append(test_stat)\n",
    "    #seg_stats.append(seg_stat)"
   ]
  },
  {
   "cell_type": "code",
   "execution_count": 25,
   "id": "dbb1d069",
   "metadata": {},
   "outputs": [
    {
     "data": {
      "image/png": "[encoded data removed]",
      "text/plain": [
       "<Figure size 432x288 with 1 Axes>"
      ]
     },
     "metadata": {
      "needs_background": "light"
     },
     "output_type": "display_data"
    }
   ],
   "source": [
    "train_losses = np.array([train_stat[0] for train_stat in train_stats])\n",
    "test_losses = np.array([test_stat[0] for test_stat in test_stats])\n",
    "\n",
    "epoch_nums = np.arange(num_epochs+1)\n",
    "plt.figure()\n",
    "plt.hold = True\n",
    "plt.plot(epoch_nums, train_losses, 'o-', label=\"Train\")\n",
    "plt.plot(epoch_nums, test_losses, 'o-', label=\"Test\")\n",
    "plt.xlabel(\"Epoch\")\n",
    "plt.ylabel(\"Binary Cross Entropy Loss\")\n",
    "_ = plt.legend()"
   ]
  },
  {
   "cell_type": "code",
   "execution_count": 22,
   "id": "3fe5b7e9",
   "metadata": {},
   "outputs": [
    {
     "data": {
      "application/vnd.jupyter.widget-view+json": {
       "model_id": "",
       "version_major": 2,
       "version_minor": 0
      },
      "text/plain": [
       "  0%|          | 0/18 [00:00<?, ?it/s]"
      ]
     },
     "metadata": {},
     "output_type": "display_data"
    }
   ],
   "source": [
    "final_seg_stats, predsNlabels = eval_loop(test_dataloader, model, loss_fn, seg=True)\n",
    "y, preds, true_preds = predsNlabels"
   ]
  },
  {
   "cell_type": "code",
   "execution_count": 23,
   "id": "a7fb6433",
   "metadata": {},
   "outputs": [
    {
     "name": "stdout",
     "output_type": "stream",
     "text": [
      "\n",
      "        Segment:\n",
      "            loss=0.483\n",
      "            acc=0.83\n",
      "                    interictal, preictal\n",
      "          precision= 0.88,    0.80\n",
      "          recall=    0.78,    0.89\n",
      "          f1=        0.82,    0.84\n"
     ]
    }
   ],
   "source": [
    "print_segstats(final_seg_stats)"
   ]
  },
  {
   "cell_type": "markdown",
   "id": "6755c2b5",
   "metadata": {},
   "source": [
    "ROC"
   ]
  },
  {
   "cell_type": "code",
   "execution_count": 24,
   "id": "a7da4296",
   "metadata": {},
   "outputs": [
    {
     "name": "stdout",
     "output_type": "stream",
     "text": [
      "ROCAUC= 0.9012345679012346\n"
     ]
    },
    {
     "data": {
      "image/png": "[encoded data removed]",
      "text/plain": [
       "<Figure size 432x288 with 1 Axes>"
      ]
     },
     "metadata": {
      "needs_background": "light"
     },
     "output_type": "display_data"
    }
   ],
   "source": [
    "thresholds = np.linspace(0, 1, 11)\n",
    "tprs, fprs, auc = roc_eval_loop(y, true_preds, thresholds)\n",
    "print(\"ROCAUC=\", auc)\n",
    "plt.figure()\n",
    "plt.hold = True\n",
    "plt.plot(fprs, tprs, 'ko-')\n",
    "plt.plot(fprs, fprs, 'r--')\n",
    "plt.xlabel(\"False Positive Rate (1 - Specificity)\")\n",
    "plt.ylabel(\"True Positive Rate (Sensitivity, Recall)\")\n",
    "_ = plt.legend([\"Model Performance\", \"Chance Performance\"])"
   ]
  },
  {
   "cell_type": "markdown",
   "id": "b14387df",
   "metadata": {},
   "source": [
    "Save model for future use"
   ]
  },
  {
   "cell_type": "code",
   "execution_count": 26,
   "id": "fde2e1b6",
   "metadata": {},
   "outputs": [],
   "source": [
    "torch.save(model, \"Patient2Model.pt\")"
   ]
  },
  {
   "cell_type": "code",
   "execution_count": null,
   "id": "84db162f",
   "metadata": {},
   "outputs": [],
   "source": []
  }
 ],
 "metadata": {
  "kernelspec": {
   "display_name": "Python 3",
   "language": "python",
   "name": "python3"
  },
  "language_info": {
   "codemirror_mode": {
    "name": "ipython",
    "version": 3
   },
   "file_extension": ".py",
   "mimetype": "text/x-python",
   "name": "python",
   "nbconvert_exporter": "python",
   "pygments_lexer": "ipython3",
   "version": "3.8.8"
  }
 },
 "nbformat": 4,
 "nbformat_minor": 5
}
